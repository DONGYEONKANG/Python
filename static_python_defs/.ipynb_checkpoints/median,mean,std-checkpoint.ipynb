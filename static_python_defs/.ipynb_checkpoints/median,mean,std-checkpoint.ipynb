{
 "cells": [
  {
   "cell_type": "code",
   "execution_count": null,
   "id": "c679375d",
   "metadata": {},
   "outputs": [],
   "source": [
    "#median\n",
    "def median(nums):\n",
    "    nums.sort()\n",
    "    size = len(nums)\n",
    "    p = size // 2\n",
    "    if size % 2 == 0:\n",
    "        pr = p\n",
    "        pl = p -1\n",
    "        mid = float(nums[pr]+nums[pr]/2)\n",
    "        \n",
    "    else:\n",
    "        mid = nums[p]\n",
    "    return mid\n",
    "\n",
    "#avg\n",
    "def means(nums):\n",
    "    total = 0.0\n",
    "    for i in range(len(nums)):\n",
    "        total = total + nums[i]\n",
    "        \n",
    "    return total/len(nums)\n",
    "\n",
    "#std\n",
    "def std_dev(nums, avg):\n",
    "    texp = 0.0\n",
    "    for i in range(len(nums)):\n",
    "        texp = texp + (nums[i] - avg)**2\n",
    "        \n",
    "    return (texp/len(nums)) ** 0.5\n",
    "\n",
    "\n"
   ]
  }
 ],
 "metadata": {
  "kernelspec": {
   "display_name": "Python 3",
   "language": "python",
   "name": "python3"
  },
  "language_info": {
   "codemirror_mode": {
    "name": "ipython",
    "version": 3
   },
   "file_extension": ".py",
   "mimetype": "text/x-python",
   "name": "python",
   "nbconvert_exporter": "python",
   "pygments_lexer": "ipython3",
   "version": "3.8.8"
  }
 },
 "nbformat": 4,
 "nbformat_minor": 5
}
