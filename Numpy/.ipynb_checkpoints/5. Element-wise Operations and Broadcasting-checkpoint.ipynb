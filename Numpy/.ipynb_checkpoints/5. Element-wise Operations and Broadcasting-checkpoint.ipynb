{
 "cells": [
  {
   "cell_type": "markdown",
   "id": "8f4ca450",
   "metadata": {},
   "source": [
    "### Vector-vector Case"
   ]
  },
  {
   "cell_type": "code",
   "execution_count": 1,
   "id": "eeefd164",
   "metadata": {},
   "outputs": [
    {
     "name": "stdout",
     "output_type": "stream",
     "text": [
      "a:  [ 2 -2  4 -1  1]\n",
      "b:  [-1  4  1 -5  3] \n",
      "\n",
      "a+b:  [ 1  2  5 -6  4]\n"
     ]
    }
   ],
   "source": [
    "import numpy as np\n",
    "\n",
    "a = np.random.randint(-5,5, (5,))\n",
    "b = np.random.randint(-5, 5, (5,))\n",
    "\n",
    "print(\"a: \", a)\n",
    "print(\"b: \", b, \"\\n\")\n",
    "\n",
    "print(\"a+b: \", a+b)"
   ]
  },
  {
   "cell_type": "code",
   "execution_count": 5,
   "id": "6933e952",
   "metadata": {},
   "outputs": [
    {
     "name": "stdout",
     "output_type": "stream",
     "text": [
      "a + b:  [5 3 6 7 4]\n",
      "a - b:  [-1  1 -2  1  0]\n",
      "a * b:  [ 6  2  8 12  4]\n",
      "a / b:  [0.66666667 2.         0.5        1.33333333 1.        ]\n",
      "a // b:  [0 2 0 1 1]\n",
      "a % b:  [2 0 2 1 0]\n",
      "a ** b:  [ 8  2 16 64  4]\n"
     ]
    }
   ],
   "source": [
    "a = np.random.randint(1,5, (5,))\n",
    "b = np.random.randint(1, 5, (5,))\n",
    "\n",
    "print(\"a + b: \", a + b)\n",
    "print(\"a - b: \", a - b)\n",
    "print(\"a * b: \", a * b)\n",
    "print(\"a / b: \", a / b)\n",
    "print(\"a // b: \", a // b)\n",
    "print(\"a % b: \", a % b)\n",
    "print(\"a ** b: \", a ** b)"
   ]
  },
  {
   "cell_type": "code",
   "execution_count": 7,
   "id": "b454942a",
   "metadata": {},
   "outputs": [
    {
     "name": "stdout",
     "output_type": "stream",
     "text": [
      "a + b:  [5 3 6 7 4]\n",
      "a - b:  [-1  1 -2  1  0]\n",
      "a * b:  [ 6  2  8 12  4]\n",
      "a / b:  [0.66666667 2.         0.5        1.33333333 1.        ]\n",
      "a // b:  [0 2 0 1 1]\n",
      "a % b:  [2 0 2 1 0]\n",
      "a ** b:  [ 8  2 16 64  4]\n"
     ]
    }
   ],
   "source": [
    "print(\"a + b: \", a.__add__(b))\n",
    "print(\"a - b: \", a.__sub__(b))\n",
    "print(\"a * b: \", a.__mul__(b))\n",
    "print(\"a / b: \", a .__truediv__(b))\n",
    "print(\"a // b: \", a.__floordiv__(b))\n",
    "print(\"a % b: \", a % b)\n",
    "print(\"a ** b: \", a ** b)"
   ]
  },
  {
   "cell_type": "markdown",
   "id": "f1596d99",
   "metadata": {},
   "source": [
    "### Matrix-matrix Case"
   ]
  },
  {
   "cell_type": "code",
   "execution_count": null,
   "id": "b90a8c33",
   "metadata": {},
   "outputs": [],
   "source": [
    "M = np.random.randint(1,5, (2,3))\n",
    "N = np.random.randint(1, 5, (2,3))\n",
    "\n",
    "print(\"M: \\n\", M)\n",
    "print(\"N: \\n\", N , \"\\n\")\n",
    "\n",
    "print(\"M + N: \\n\", M + N)\n",
    "print(\"M - N: \\n\", M - N)"
   ]
  },
  {
   "cell_type": "markdown",
   "id": "b39cd639",
   "metadata": {},
   "source": [
    "### Element-wise Multiplication and Masking"
   ]
  },
  {
   "cell_type": "code",
   "execution_count": 13,
   "id": "e37f9f68",
   "metadata": {},
   "outputs": [
    {
     "name": "stdout",
     "output_type": "stream",
     "text": [
      "input :  [0 1 2 3 4]\n",
      "mask:  [0 1 0 1 0]\n",
      "output:  [0 1 0 3 0]\n"
     ]
    }
   ],
   "source": [
    "a = np.arange(5)\n",
    "mask = np.array([0,1,0,1,0])\n",
    "\n",
    "print(\"input : \", a)\n",
    "print(\"mask: \", mask)\n",
    "print(\"output: \", a * mask) # 원하는 부분만 0으로,,! ex. max_pooling에서 [[2,7],[8,10]] -> [[0,0],[0,1]] bacause of back proporgatino.."
   ]
  },
  {
   "cell_type": "code",
   "execution_count": 17,
   "id": "4f20159d",
   "metadata": {},
   "outputs": [
    {
     "name": "stdout",
     "output_type": "stream",
     "text": [
      "input : \n",
      " [[1 2]\n",
      " [3 4]]\n",
      "mask: \n",
      " [[0 0]\n",
      " [1 0]]\n",
      "output: \n",
      " [[0 0]\n",
      " [3 0]]\n"
     ]
    }
   ],
   "source": [
    "a = np.arange(1, 5).reshape((2,2))\n",
    "mask = np.array([[0,0],[1,0]])\n",
    "\n",
    "print(\"input : \\n\", a)\n",
    "print(\"mask: \\n\", mask`)\n",
    "print(\"output: \\n\", a * mask)"
   ]
  },
  {
   "cell_type": "markdown",
   "id": "57f0dda4",
   "metadata": {},
   "source": [
    "### Broadcasting in Numpy\n",
    "\n",
    "- Broadcasting : shape의 일정하지 않을 때 numpy가 shape을 알아서 맞춰 연산한다.  ex)(3,4)일 때 (3,1) or (1,4)의 연산이 가능해진다.\n"
   ]
  },
  {
   "cell_type": "code",
   "execution_count": null,
   "id": "716cbfc8",
   "metadata": {},
   "outputs": [],
   "source": []
  }
 ],
 "metadata": {
  "kernelspec": {
   "display_name": "Python 3 (ipykernel)",
   "language": "python",
   "name": "python3"
  },
  "language_info": {
   "codemirror_mode": {
    "name": "ipython",
    "version": 3
   },
   "file_extension": ".py",
   "mimetype": "text/x-python",
   "name": "python",
   "nbconvert_exporter": "python",
   "pygments_lexer": "ipython3",
   "version": "3.9.0"
  }
 },
 "nbformat": 4,
 "nbformat_minor": 5
}
