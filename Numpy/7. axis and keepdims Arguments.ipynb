{
 "cells": [
  {
   "cell_type": "markdown",
   "id": "9b8c8bb1",
   "metadata": {},
   "source": [
    "# Realated APIs\n",
    "\n",
    "- np.sum\n",
    "- np.cumsum\n",
    "- np.prod\n",
    "- np.cumprod\n",
    "- np.diff\n",
    "- np.mean\n",
    "- np.median\n",
    "- np.var\n",
    "- np.var\n",
    "- np.std\n",
    "- np.amax\n",
    "- np.argmax\n",
    "- np.amin\n",
    "- np.argmin\n",
    "- np.sort"
   ]
  },
  {
   "cell_type": "code",
   "execution_count": 2,
   "id": "ff3622dd",
   "metadata": {},
   "outputs": [
    {
     "name": "stdout",
     "output_type": "stream",
     "text": [
      "10\n",
      "10\n"
     ]
    }
   ],
   "source": [
    "import numpy as np\n",
    "\n",
    "a = np.arange(5)\n",
    "print(np.sum(a))\n",
    "print(a.sum())"
   ]
  },
  {
   "cell_type": "code",
   "execution_count": 5,
   "id": "782d364b",
   "metadata": {},
   "outputs": [
    {
     "name": "stdout",
     "output_type": "stream",
     "text": [
      "ndarray: \n",
      " [[0 1 2]\n",
      " [3 4 5]]\n",
      "np.sum:  15\n",
      "ndarray.sum:  15\n"
     ]
    }
   ],
   "source": [
    "a = np.arange(6).reshape((2,-1))\n",
    "print(\"ndarray: \\n\", a)\n",
    "\n",
    "print(\"np.sum: \", np.sum(a))\n",
    "print(\"ndarray.sum: \", a.sum())"
   ]
  },
  {
   "cell_type": "code",
   "execution_count": 7,
   "id": "bf53dfa5",
   "metadata": {},
   "outputs": [
    {
     "name": "stdout",
     "output_type": "stream",
     "text": [
      "ndarray: (4,)\n",
      "[12 15 18 21]\n"
     ]
    }
   ],
   "source": [
    "a = np.arange(12).reshape((3,-1))\n",
    "\n",
    "sum_ = a.sum(axis = 0)\n",
    "\n",
    "print(f\"ndarray: {sum_.shape}\\n{sum_}\") # (4,)"
   ]
  },
  {
   "cell_type": "code",
   "execution_count": 8,
   "id": "64eb5f95",
   "metadata": {},
   "outputs": [
    {
     "name": "stdout",
     "output_type": "stream",
     "text": [
      "ndarray: (3,)\n",
      "[ 6 22 38]\n"
     ]
    }
   ],
   "source": [
    "sum_ = a.sum(axis = 1)\n",
    "\n",
    "print(f\"ndarray: {sum_.shape}\\n{sum_}\") # (4,)"
   ]
  },
  {
   "cell_type": "code",
   "execution_count": 9,
   "id": "37260a57",
   "metadata": {},
   "outputs": [
    {
     "name": "stdout",
     "output_type": "stream",
     "text": [
      "scores: (3, 4)\n",
      "[[ 0  1  2  3]\n",
      " [ 4  5  6  7]\n",
      " [ 8  9 10 11]]\n",
      "sum_class: (4,)\n",
      "[12 15 18 21]\n",
      "sum_student: (3,)\n",
      "[ 6 22 38]\n"
     ]
    }
   ],
   "source": [
    "a = np.arange(12).reshape((3,-1))\n",
    "\n",
    "sum_class = np.sum(a, axis = 0) # 과목별 합을 구했을떄만 브로드케스팅이 가능하다.!!\n",
    "sum_student = np.sum(a, axis = 1)\n",
    "\n",
    "print(f\"scores: {a.shape}\\n{a}\")\n",
    "print(f\"sum_class: {sum_class.shape}\\n{sum_class}\")\n",
    "print(f\"sum_student: {sum_student.shape}\\n{sum_student}\")"
   ]
  },
  {
   "cell_type": "markdown",
   "id": "dfbc0a08",
   "metadata": {},
   "source": [
    "## Keepdims Argument"
   ]
  },
  {
   "cell_type": "code",
   "execution_count": 11,
   "id": "16b49c98",
   "metadata": {},
   "outputs": [
    {
     "name": "stdout",
     "output_type": "stream",
     "text": [
      "scores: (3, 4)\n",
      "[[ 0  1  2  3]\n",
      " [ 4  5  6  7]\n",
      " [ 8  9 10 11]]\n",
      "sum_class: (1, 4)\n",
      "[[12 15 18 21]]\n",
      "sum_student: (3, 1)\n",
      "[[ 6]\n",
      " [22]\n",
      " [38]]\n"
     ]
    }
   ],
   "source": [
    "a = np.arange(12).reshape((3,-1))\n",
    "\n",
    "sum_class = np.sum(a, axis = 0, keepdims = True) # 과목별 합을 구했을떄만 브로드케스팅이 가능하다.!!\n",
    "sum_student = np.sum(a, axis = 1, keepdims = True)\n",
    "\n",
    "print(f\"scores: {a.shape}\\n{a}\")\n",
    "print(f\"sum_class: {sum_class.shape}\\n{sum_class}\") # 차원을 남겨준다. 기존의 값과 브로드케스팅 가능\n",
    "print(f\"sum_student: {sum_student.shape}\\n{sum_student}\")# 차원을 남겨준다. 기존의 값과 브로드케스팅 가능"
   ]
  },
  {
   "cell_type": "code",
   "execution_count": 15,
   "id": "0249f356",
   "metadata": {},
   "outputs": [
    {
     "name": "stdout",
     "output_type": "stream",
     "text": [
      "[[47.33333333 72.66666667 43.66666667 80.        ]] /// (1, 4)\n",
      "[[79.5 ]\n",
      " [43.5 ]\n",
      " [59.75]] /// (3, 1)\n"
     ]
    }
   ],
   "source": [
    "n_stu, n_cls = 3, 4\n",
    "m_score, M_score = 0, 100\n",
    "scores = np.random.randint(low = m_score,\n",
    "                          high = M_score,\n",
    "                          size = (n_stu, n_cls))\n",
    "\n",
    "mean_cls = np.mean(scores, axis = 0 , keepdims=True)\n",
    "mean_stu = np.mean(scores, axis = 1 , keepdims=True)\n",
    "\n",
    "print(mean_cls,\"///\",mean_cls.shape)\n",
    "print(mean_stu, \"///\",mean_stu.shape)"
   ]
  },
  {
   "cell_type": "markdown",
   "id": "be1c9487",
   "metadata": {},
   "source": [
    "# 3rd Order Tensor Case"
   ]
  },
  {
   "cell_type": "code",
   "execution_count": 16,
   "id": "567b4215",
   "metadata": {},
   "outputs": [
    {
     "name": "stdout",
     "output_type": "stream",
     "text": [
      "ndarray: (2, 3, 4)\n",
      "[[[ 0  1  2  3]\n",
      "  [ 4  5  6  7]\n",
      "  [ 8  9 10 11]]\n",
      "\n",
      " [[12 13 14 15]\n",
      "  [16 17 18 19]\n",
      "  [20 21 22 23]]]\n",
      "ndarray.sum(axis = 0): (3, 4)\n",
      "[[12 14 16 18]\n",
      " [20 22 24 26]\n",
      " [28 30 32 34]]\n"
     ]
    }
   ],
   "source": [
    "a = np.arange(2*3*4).reshape((2,3,4))\n",
    "\n",
    "sum_ = a.sum(axis = 0)\n",
    "\n",
    "print(f\"ndarray: {a.shape}\\n{a}\") # (4,)\n",
    "print(f\"ndarray.sum(axis = 0): {sum_.shape}\\n{sum_}\") # 0번쨰 차원이 없어진다..라고 생각하면 될듯\n",
    "\n"
   ]
  },
  {
   "cell_type": "code",
   "execution_count": 22,
   "id": "5b252e4b",
   "metadata": {},
   "outputs": [
    {
     "name": "stdout",
     "output_type": "stream",
     "text": [
      "ndarray.sum(axis = 1): (2, 4)\n",
      "[[12 15 18 21]\n",
      " [48 51 54 57]]\n",
      "ndarray.sum(axis = 1, keepdims=True): (2, 1, 4)\n",
      "[[[12 15 18 21]]\n",
      "\n",
      " [[48 51 54 57]]]\n"
     ]
    }
   ],
   "source": [
    "sum_ = a.sum(axis = 1)\n",
    "print(f\"ndarray.sum(axis = 1): {sum_.shape}\\n{sum_}\") # 2번쨰 차원이 없어진다..ㅎ (2,4)가 되는것이고 3부분이 합쳐진다.\n",
    "\n",
    "sum_ = a.sum(axis = 1, keepdims=True)\n",
    "print(f\"ndarray.sum(axis = 1, keepdims=True): {sum_.shape}\\n{sum_}\") #(2, 1, 4)"
   ]
  },
  {
   "cell_type": "code",
   "execution_count": 23,
   "id": "2d9f845f",
   "metadata": {},
   "outputs": [
    {
     "name": "stdout",
     "output_type": "stream",
     "text": [
      "ndarray.sum(axis = 1): (2, 3)\n",
      "[[ 6 22 38]\n",
      " [54 70 86]]\n",
      "ndarray.sum(axis = 1, keepdims=True): (2, 3, 1)\n",
      "[[[ 6]\n",
      "  [22]\n",
      "  [38]]\n",
      "\n",
      " [[54]\n",
      "  [70]\n",
      "  [86]]]\n"
     ]
    }
   ],
   "source": [
    "sum_ = a.sum(axis = 2)\n",
    "print(f\"ndarray.sum(axis = 1): {sum_.shape}\\n{sum_}\") # 3번쨰 차원이 없어진다.. row 별로 없어진다.\n",
    "\n",
    "sum_ = a.sum(axis = 2, keepdims=True)\n",
    "print(f\"ndarray.sum(axis = 1, keepdims=True): {sum_.shape}\\n{sum_}\") #(2, 1, 4)"
   ]
  },
  {
   "cell_type": "code",
   "execution_count": 25,
   "id": "cd85b811",
   "metadata": {},
   "outputs": [
    {
     "name": "stdout",
     "output_type": "stream",
     "text": [
      "scores: \n",
      " [[[44 73 33 92]\n",
      "  [63 20 93 64]\n",
      "  [26 22 23 40]]\n",
      "\n",
      " [[90 56 78 68]\n",
      "  [97 36 11  1]\n",
      "  [16 62 46 97]]\n",
      "\n",
      " [[66 80 30 50]\n",
      "  [71 22 61 36]\n",
      "  [81 28 62 45]]\n",
      "\n",
      " [[96 21 28 98]\n",
      "  [46 51 92 51]\n",
      "  [ 9 33 19 29]]]\n",
      "score mean:  (3, 4) \n",
      " [[74.   57.5  42.25 77.  ]\n",
      " [69.25 32.25 64.25 38.  ]\n",
      " [33.   36.25 37.5  52.75]]\n"
     ]
    }
   ],
   "source": [
    "n_testtime, n_stu, n_cls = 4, 3, 4\n",
    "m_score, M_score = 0, 100\n",
    "scores = np.random.randint(low = m_score,\n",
    "                          high = M_score,\n",
    "                          size = (n_testtime, \n",
    "                                  n_stu,\n",
    "                                  n_cls))\n",
    "\n",
    "print(\"scores: \\n\", scores)\n",
    "\n",
    "\n",
    "score_mean = np.mean(scores, axis = 0)\n",
    "print(\"score mean: \", \n",
    "     score_mean.shape, \"\\n\", # (3,4) 학생과 과목\n",
    "     score_mean)\n"
   ]
  },
  {
   "cell_type": "code",
   "execution_count": 26,
   "id": "a7e0ae10",
   "metadata": {},
   "outputs": [
    {
     "name": "stdout",
     "output_type": "stream",
     "text": [
      "scores: \n",
      " [[[18 53 90 51]\n",
      "  [30 65 12 74]\n",
      "  [33 38 79  1]]\n",
      "\n",
      " [[90 51 87 97]\n",
      "  [63 24 12  6]\n",
      "  [56 10 66  2]]\n",
      "\n",
      " [[99 54 75 78]\n",
      "  [86 59 71 61]\n",
      "  [ 3 77 75 65]]\n",
      "\n",
      " [[68 44 50 31]\n",
      "  [31 12 70 26]\n",
      "  [88  7 52 86]]]\n",
      "score mean:  (4, 4) \n",
      " [[27.         52.         60.33333333 42.        ]\n",
      " [69.66666667 28.33333333 55.         35.        ]\n",
      " [62.66666667 63.33333333 73.66666667 68.        ]\n",
      " [62.33333333 21.         57.33333333 47.66666667]]\n"
     ]
    }
   ],
   "source": [
    "n_testtime, n_stu, n_cls = 4, 3, 4\n",
    "m_score, M_score = 0, 100\n",
    "scores = np.random.randint(low = m_score,\n",
    "                          high = M_score,\n",
    "                          size = (n_testtime, \n",
    "                                  n_stu,\n",
    "                                  n_cls))\n",
    "\n",
    "print(\"scores: \\n\", scores)\n",
    "\n",
    "\n",
    "score_mean = np.mean(scores, axis = 1)\n",
    "print(\"score mean: \", \n",
    "     score_mean.shape, \"\\n\", # (4,4) 모의고사, 과목\n",
    "     score_mean)"
   ]
  }
 ],
 "metadata": {
  "kernelspec": {
   "display_name": "Python 3 (ipykernel)",
   "language": "python",
   "name": "python3"
  },
  "language_info": {
   "codemirror_mode": {
    "name": "ipython",
    "version": 3
   },
   "file_extension": ".py",
   "mimetype": "text/x-python",
   "name": "python",
   "nbconvert_exporter": "python",
   "pygments_lexer": "ipython3",
   "version": "3.9.0"
  }
 },
 "nbformat": 4,
 "nbformat_minor": 5
}
