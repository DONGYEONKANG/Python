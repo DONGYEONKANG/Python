{
 "cells": [
  {
   "cell_type": "markdown",
   "id": "eb72dd6e",
   "metadata": {},
   "source": [
    "# Meta-data of ndarrays\n"
   ]
  },
  {
   "cell_type": "markdown",
   "id": "6a0326f3",
   "metadata": {},
   "source": [
    "## ndarray\n",
    "\n",
    "- .ndim\n",
    "- .shape -> .reshape, .resize , .flatten , .ravel\n",
    "- .size\n",
    "- .dtype\n",
    "- .itemsize -> .astype\n",
    "- .nbytes"
   ]
  },
  {
   "cell_type": "code",
   "execution_count": 5,
   "id": "bf7d31ff",
   "metadata": {},
   "outputs": [
    {
     "name": "stdout",
     "output_type": "stream",
     "text": [
      "0\n",
      "1\n",
      "2\n",
      "3\n"
     ]
    }
   ],
   "source": [
    "import numpy as np\n",
    "\n",
    "# ndim\n",
    "scalar_np = np.array(3.14)\n",
    "vector_np = np.array([1,2,3])\n",
    "matrix_np = np.array([[1,2],[3,4]])\n",
    "tensor_np = np.array([[[1,2,3],\n",
    "                      [4,5,6]],\n",
    "                     [[11, 12, 13],\n",
    "                     [14, 15, 16]]])\n",
    "\n",
    "print(scalar_np.ndim) # 0 dimension\n",
    "print(vector_np.ndim) # 1 dimension\n",
    "print(matrix_np.ndim) # 2 dimension\n",
    "print(tensor_np.ndim) # 3 dimension"
   ]
  },
  {
   "cell_type": "code",
   "execution_count": 10,
   "id": "bf77e293",
   "metadata": {},
   "outputs": [
    {
     "name": "stdout",
     "output_type": "stream",
     "text": [
      "shape / dimension\n",
      "() / 0\n",
      "(3,)/ 1\n",
      "(2, 2)/ 2\n",
      "(2, 2, 3)/ 3\n",
      "\n",
      "\n",
      "[1 2 3] (3,)\n",
      "[[1 2 3]] (1, 3)\n",
      "[[1]\n",
      " [2]\n",
      " [3]] (3, 1)\n"
     ]
    }
   ],
   "source": [
    "# shape\n",
    "\n",
    "print(\"shape / dimension\")\n",
    "print(f\"{scalar_np.shape} / {len(scalar_np.shape)}\") \n",
    "print(f\"{vector_np.shape}/ {len(vector_np.shape)}\")\n",
    "print(f\"{matrix_np.shape}/ {len(matrix_np.shape)}\")\n",
    "print(f\"{tensor_np.shape}/ {len(tensor_np.shape)}\")\n",
    "\n",
    "\n",
    "a = np.array([1,2,3])\n",
    "b = np.array([[1,2,3]]) # 2차원 텐서\n",
    "c = np.array([[1],[2],[3]]) # 2차원 텐서\n",
    "\n",
    "print(\"\\n\")\n",
    "print(a, a.shape)\n",
    "print(b, b.shape)\n",
    "print(c, c.shape)"
   ]
  },
  {
   "cell_type": "code",
   "execution_count": null,
   "id": "6ba81cf5",
   "metadata": {},
   "outputs": [],
   "source": [
    "# size\n",
    "\n",
    "\n",
    "# 전체 원소의 갯수 (n*m*o..)\n",
    "M = np.ones(shape = (10,))\n",
    "N = np.ones(shape = (3, 4))\n",
    "O = np.ones(shape = (3, 4, 5))\n",
    "P = np.ones(shape = (3, 4, 5,6))\n",
    "\n",
    "\n",
    "print(\"Size of M:\", M.size)\n",
    "print(\"Size of N:\", N.size)\n",
    "print(\"Size of O:\", O.size)\n",
    "print(\"Size of P:\", P.size)"
   ]
  },
  {
   "cell_type": "markdown",
   "id": "ab4af938",
   "metadata": {},
   "source": [
    "## Data types in Numpy\n",
    "\n",
    "- np.int : np.int8 / np.int16 / np.int32 / np.int64\n",
    "- np.uint(unsign): 부호가 없는, 즉 양수인 int , np.uint8 / np.uint16 / np.uint32 / np.uint64\n",
    "- np.float: np.float32 / np.float64"
   ]
  },
  {
   "cell_type": "code",
   "execution_count": 16,
   "id": "6c255ea8",
   "metadata": {},
   "outputs": [
    {
     "name": "stdout",
     "output_type": "stream",
     "text": [
      "int32\n",
      "float64\n"
     ]
    }
   ],
   "source": [
    "# 이미지의 경우 일반적으로 .uint8\n",
    "# if 100 X 100 uint8이면 , 10000개의 Byte가 있다. KB = B/1024 if color x3\n",
    "\n",
    "M = np.arange(100)\n",
    "N = np.full(fill_value=3.14, shape=(2,3))\n",
    "\n",
    "print(M.dtype)\n",
    "print(N.dtype)"
   ]
  },
  {
   "cell_type": "code",
   "execution_count": 15,
   "id": "0b79fd9d",
   "metadata": {},
   "outputs": [
    {
     "name": "stdout",
     "output_type": "stream",
     "text": [
      "int32\n",
      "float64\n"
     ]
    }
   ],
   "source": [
    "int_np = np.array([1,2,3])\n",
    "float_np = np.array([1.,2.,3.])\n",
    "\n",
    "print(int_np.dtype)\n",
    "print(float_np.dtype)\n"
   ]
  },
  {
   "cell_type": "code",
   "execution_count": 18,
   "id": "7ee46fac",
   "metadata": {},
   "outputs": [
    {
     "name": "stdout",
     "output_type": "stream",
     "text": [
      "float32/float64\n",
      "[[1. 1. 1.]\n",
      " [1. 1. 1.]]\n",
      "[[0. 0. 0.]\n",
      " [0. 0. 0.]]\n"
     ]
    }
   ],
   "source": [
    "M = np.ones(shape = (2,3), dtype=np.float32)\n",
    "N = np.zeros_like(M, dtype=np.float64)\n",
    "\n",
    "\n",
    "print(f\"{M.dtype}/{N.dtype}\") # 2배의 용량차이!!\n",
    "print(M)\n",
    "print(N)"
   ]
  },
  {
   "cell_type": "markdown",
   "id": "60760ae7",
   "metadata": {},
   "source": [
    "- dtype\n",
    "- itemsize : 배열의 크기\n",
    "- size: 배열의 요소 전체의 개수\n",
    "- nbytes: size * itemsize"
   ]
  },
  {
   "cell_type": "code",
   "execution_count": 33,
   "id": "5cfc43ae",
   "metadata": {},
   "outputs": [
    {
     "name": "stdout",
     "output_type": "stream",
     "text": [
      "int8 / 1B\n",
      "int16 / 2B\n",
      "int32 / 4B\n",
      "int64 / 8B\n"
     ]
    }
   ],
   "source": [
    "int8_np = np.array([1,2,3], dtype= np.int8)\n",
    "int16_np = np.array([1,2,3], dtype= np.int16)\n",
    "int32_np = np.array([1,2,3], dtype= np.int32)\n",
    "int64_np = np.array([1,2,3], dtype= np.int64)\n",
    "\n",
    "print(f\"{int8_np.dtype} / {int8_np.itemsize}B\") # 1Byte\n",
    "print(f\"{int16_np.dtype} / {int16_np.itemsize}B\") # 2Byte\n",
    "print(f\"{int32_np.dtype} / {int32_np.itemsize}B\") # 3Byte\n",
    "print(f\"{int64_np.dtype} / {int64_np.itemsize}B\") # 4Byte"
   ]
  },
  {
   "cell_type": "code",
   "execution_count": 34,
   "id": "2deded5e",
   "metadata": {},
   "outputs": [
    {
     "name": "stdout",
     "output_type": "stream",
     "text": [
      "size :  400000\n",
      "dtype/itemsize: float64/8\n",
      "\n",
      "Memory capacity in B: 3200000B\n",
      "Memory capacity in 3125.0KB\n",
      "Memory capacity in 3.0517578125MB\n"
     ]
    }
   ],
   "source": [
    "normal = np.random.normal(size=(50,50,32,5))\n",
    "\n",
    "print(\"size : \", normal.size)\n",
    "print(f\"dtype/itemsize: {normal.dtype}/{normal.itemsize}\\n\")\n",
    "\n",
    "\n",
    "m_cap = normal.size * normal.itemsize\n",
    "\n",
    "print(f\"Memory capacity in B: {m_cap}B\") # Momory capacity\n",
    "print(f\"Memory capacity in {m_cap/1024}KB\") # Momory capacity\n",
    "print(f\"Memory capacity in {m_cap/1024**2}MB\") # Momory capacity"
   ]
  },
  {
   "cell_type": "code",
   "execution_count": 35,
   "id": "ed929322",
   "metadata": {},
   "outputs": [
    {
     "name": "stdout",
     "output_type": "stream",
     "text": [
      "3200000B / 3200000B\n"
     ]
    }
   ],
   "source": [
    "import numpy as np\n",
    "\n",
    "normal = np.random.normal(size = (50,50,32,5))\n",
    "\n",
    "m_cap = normal.size * normal.itemsize\n",
    "print(f\"{m_cap}B / {normal.nbytes}B\")"
   ]
  },
  {
   "cell_type": "code",
   "execution_count": null,
   "id": "28a62318",
   "metadata": {},
   "outputs": [],
   "source": []
  }
 ],
 "metadata": {
  "kernelspec": {
   "display_name": "Python 3 (ipykernel)",
   "language": "python",
   "name": "python3"
  },
  "language_info": {
   "codemirror_mode": {
    "name": "ipython",
    "version": 3
   },
   "file_extension": ".py",
   "mimetype": "text/x-python",
   "name": "python",
   "nbconvert_exporter": "python",
   "pygments_lexer": "ipython3",
   "version": "3.9.0"
  }
 },
 "nbformat": 4,
 "nbformat_minor": 5
}
