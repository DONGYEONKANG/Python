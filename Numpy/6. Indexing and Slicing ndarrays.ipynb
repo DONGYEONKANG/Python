{
 "cells": [
  {
   "cell_type": "markdown",
   "id": "601a6168",
   "metadata": {},
   "source": [
    "## Indexing and Slicing Vector ndarrays"
   ]
  },
  {
   "cell_type": "code",
   "execution_count": 10,
   "id": "fa451919",
   "metadata": {},
   "outputs": [
    {
     "name": "stdout",
     "output_type": "stream",
     "text": [
      "ndarray: \n",
      " [0 1 2 3 4 5 6 7 8 9]\n",
      "\n",
      "a[0]: \n",
      " 0\n",
      "\n",
      "a[2]: \n",
      " 2\n",
      "\n",
      "a[-1]: \n",
      " 9\n",
      "\n",
      "a[-2]: \n",
      " 8\n",
      "\n",
      "a[0:3] : [0 1 2]\n",
      "a[3:7] : [3 4 5 6]\n",
      "a[5:-1] : [5 6 7 8]\n",
      "a[::3] : [0 3 6 9]\n",
      "a[7:2:-1] : [7 6 5 4 3]\n",
      "a[7:2:-1] : [8 6 4]\n"
     ]
    }
   ],
   "source": [
    "import numpy as np\n",
    "    \n",
    "a = np.arange(10)\n",
    "print(f\"ndarray: \\n {a}\\n\")\n",
    "    \n",
    "print(f\"a[0]: \\n {a[0]}\\n\")\n",
    "print(f\"a[2]: \\n {a[2]}\\n\")\n",
    "\n",
    "\n",
    "print(f\"a[-1]: \\n {a[-1]}\\n\")\n",
    "print(f\"a[-2]: \\n {a[-2]}\\n\")\n",
    "print(\"a[0:3] :\", a[0:3])\n",
    "print(\"a[3:7] :\", a[3:7])\n",
    "print(\"a[5:-1] :\", a[5:-1])\n",
    "print(\"a[::3] :\", a[::3])\n",
    "print(\"a[7:2:-1] :\", a[7:2:-1])\n",
    "print(\"a[7:2:-1] :\", a[8:3:-2])"
   ]
  },
  {
   "cell_type": "markdown",
   "id": "355e0f84",
   "metadata": {},
   "source": [
    "## Element Assignment with Slicing"
   ]
  },
  {
   "cell_type": "code",
   "execution_count": 19,
   "id": "f1b9d43e",
   "metadata": {},
   "outputs": [
    {
     "name": "stdout",
     "output_type": "stream",
     "text": [
      "ndarray: \n",
      " [0 1 2 3 4 5 6 7 8 9]\n",
      "\n",
      "[0 3 6 9]\n",
      "[0 3 6 9]\n"
     ]
    }
   ],
   "source": [
    "a = np.arange(10)\n",
    "\n",
    "indices = np.array([0,3,6,-1])\n",
    "print(f\"ndarray: \\n {a}\\n\")\n",
    "\n",
    "print(a[indices]) # -1 일때... 9가 나온다.\n",
    "print(a[a%3==0])"
   ]
  },
  {
   "cell_type": "code",
   "execution_count": 15,
   "id": "90ab4f89",
   "metadata": {},
   "outputs": [
    {
     "name": "stdout",
     "output_type": "stream",
     "text": [
      "[0, 0, 0, 0, 0, 6, 7, 8, 9, 10]\n"
     ]
    }
   ],
   "source": [
    "a = list(range(1,11))\n",
    "\n",
    "\n",
    "for data_idx in range(5):\n",
    "    a[data_idx] = 0\n",
    "print(a)\n"
   ]
  },
  {
   "cell_type": "code",
   "execution_count": 17,
   "id": "8fb73dec",
   "metadata": {},
   "outputs": [
    {
     "name": "stdout",
     "output_type": "stream",
     "text": [
      "[ 0  0  0  0  0  6  7  8  9 10]\n",
      "[200   0 200   0 200   6 200   8 200  10]\n"
     ]
    }
   ],
   "source": [
    "a = np.arange(1,11)\n",
    "a[:5] = 0\n",
    "print(a)\n",
    "\n",
    "a[::2] = 200\n",
    "print(a)"
   ]
  },
  {
   "cell_type": "markdown",
   "id": "f996eaab",
   "metadata": {},
   "source": [
    "## Indexing and Slicing Matrix ndarrays"
   ]
  },
  {
   "cell_type": "code",
   "execution_count": 21,
   "id": "02346c96",
   "metadata": {},
   "outputs": [
    {
     "name": "stdout",
     "output_type": "stream",
     "text": [
      "ndarray: \n",
      "[[ 0  1  2  3]\n",
      " [ 4  5  6  7]\n",
      " [ 8  9 10 11]]\n",
      "\n",
      "a[0]:  [0 1 2 3]\n"
     ]
    }
   ],
   "source": [
    "a = np.arange(12).reshape((3,4))\n",
    "print(f\"ndarray: \\n{a}\\n\")\n",
    "\n",
    "print(\"a[0]: \", a[0])"
   ]
  },
  {
   "cell_type": "code",
   "execution_count": 22,
   "id": "50269f31",
   "metadata": {},
   "outputs": [
    {
     "name": "stdout",
     "output_type": "stream",
     "text": [
      "ndarray: \n",
      "[[0 1 2]\n",
      " [3 4 5]\n",
      " [6 7 8]]\n",
      "\n",
      "horizontal_filp: \n",
      "[[2 1 0]\n",
      " [5 4 3]\n",
      " [8 7 6]]\n",
      "\n",
      "horizontal_filp: \n",
      "[[6 7 8]\n",
      " [3 4 5]\n",
      " [0 1 2]]\n",
      "\n",
      "horizontal_filp: \n",
      "[[8 7 6]\n",
      " [5 4 3]\n",
      " [2 1 0]]\n",
      "\n"
     ]
    }
   ],
   "source": [
    "image = np.arange(9).reshape((3,3))\n",
    "print(f\"ndarray: \\n{image}\\n\")\n",
    "\n",
    "horizontal_filp = image[:, ::-1]\n",
    "print(f\"horizontal_filp: \\n{horizontal_filp}\\n\")\n",
    "\n",
    "vectical_filp = image[::-1, :]\n",
    "print(f\"horizontal_filp: \\n{vectical_filp}\\n\")\n",
    "\n",
    "rotation_filp = image[::-1, ::-1]\n",
    "print(f\"horizontal_filp: \\n{rotation_filp}\\n\")\n"
   ]
  },
  {
   "cell_type": "code",
   "execution_count": 25,
   "id": "c0b96593",
   "metadata": {},
   "outputs": [
    {
     "name": "stdout",
     "output_type": "stream",
     "text": [
      "a[0,:] : \n",
      " [0 1 2 3]\n",
      "a[0,...] : \n",
      " [0 1 2 3]\n"
     ]
    }
   ],
   "source": [
    "a = np.arange(16).reshape((4,4))\n",
    "\n",
    "print(\"a[0,:] : \\n\", a[0,:])\n",
    "print(\"a[0,...] : \\n\", a[0,...])"
   ]
  },
  {
   "cell_type": "markdown",
   "id": "4c6c7f02",
   "metadata": {},
   "source": [
    "### 3rd Ordet Tensor ndarrays"
   ]
  },
  {
   "cell_type": "code",
   "execution_count": 26,
   "id": "5dc8cd1f",
   "metadata": {},
   "outputs": [
    {
     "name": "stdout",
     "output_type": "stream",
     "text": [
      "ndarray: \n",
      "[[[ 0  1  2]\n",
      "  [ 3  4  5]\n",
      "  [ 6  7  8]]\n",
      "\n",
      " [[ 9 10 11]\n",
      "  [12 13 14]\n",
      "  [15 16 17]]\n",
      "\n",
      " [[18 19 20]\n",
      "  [21 22 23]\n",
      "  [24 25 26]]]\n",
      "\n"
     ]
    }
   ],
   "source": [
    "a = np.arange(3*3*3).reshape((3,3,3))\n",
    "print(f\"ndarray: \\n{a}\\n\")"
   ]
  },
  {
   "cell_type": "code",
   "execution_count": 28,
   "id": "82cb26fb",
   "metadata": {},
   "outputs": [
    {
     "name": "stdout",
     "output_type": "stream",
     "text": [
      "a[0, 0] : \n",
      " [0 1 2]\n",
      "a[0, 1] : \n",
      " [3 4 5]\n",
      "a[0, 2] : \n",
      " [6 7 8] \n",
      "\n",
      "a[1, 0] : \n",
      " [0 1 2]\n",
      "a[1, 1] : \n",
      " [3 4 5]\n",
      "a[1, 2] : \n",
      " [6 7 8] \n",
      "\n"
     ]
    }
   ],
   "source": [
    "print(\"a[0, 0] : \\n\", a[0,0])\n",
    "print(\"a[0, 1] : \\n\", a[0,1])\n",
    "print(\"a[0, 2] : \\n\", a[0,2], \"\\n\")\n",
    "\n",
    "print(\"a[1, 0] : \\n\", a[0,0])\n",
    "print(\"a[1, 1] : \\n\", a[0,1])\n",
    "print(\"a[1, 2] : \\n\", a[0,2], \"\\n\")"
   ]
  },
  {
   "cell_type": "code",
   "execution_count": 30,
   "id": "9ca501e8",
   "metadata": {},
   "outputs": [
    {
     "name": "stdout",
     "output_type": "stream",
     "text": [
      "image set:  (32, 100, 200)\n",
      "(100, 200)\n"
     ]
    }
   ],
   "source": [
    "images = np.random.normal(size=(32,100,200))\n",
    "print(\"image set: \", images.shape)\n",
    "\n",
    "image0 = images[0,:,:]\n",
    "print(image0.shape)"
   ]
  },
  {
   "cell_type": "code",
   "execution_count": 31,
   "id": "2254839a",
   "metadata": {},
   "outputs": [
    {
     "name": "stdout",
     "output_type": "stream",
     "text": [
      "(100, 200)\n"
     ]
    }
   ],
   "source": [
    "image0 = images[0,...]\n",
    "print(image0.shape)"
   ]
  },
  {
   "cell_type": "code",
   "execution_count": 32,
   "id": "7b08036e",
   "metadata": {},
   "outputs": [
    {
     "name": "stdout",
     "output_type": "stream",
     "text": [
      "(32, 100)\n",
      "(32, 100)\n"
     ]
    }
   ],
   "source": [
    "image0 = images[:,:,0]\n",
    "print(image0.shape)\n",
    "\n",
    "\n",
    "image0 = images[...,0]\n",
    "print(image0.shape)"
   ]
  },
  {
   "cell_type": "code",
   "execution_count": 33,
   "id": "65f12abc",
   "metadata": {},
   "outputs": [
    {
     "name": "stdout",
     "output_type": "stream",
     "text": [
      "(100,)\n",
      "(100,)\n"
     ]
    }
   ],
   "source": [
    "image0 = images[0,:,0]\n",
    "print(image0.shape)\n",
    "\n",
    "\n",
    "image0 = images[0,...,0]\n",
    "print(image0.shape)"
   ]
  },
  {
   "cell_type": "code",
   "execution_count": 36,
   "id": "dd32a9aa",
   "metadata": {},
   "outputs": [
    {
     "name": "stdout",
     "output_type": "stream",
     "text": [
      "[[0 1 2]\n",
      " [3 4 5]]\n",
      "[[ 9 10 11]\n",
      " [12 13 14]]\n",
      "[[18 19 20]\n",
      " [21 22 23]]\n"
     ]
    }
   ],
   "source": [
    "a = np.arange(27).reshape((3,3,3))\n",
    "\n",
    "print(a[0,:2,:])\n",
    "print(a[1,:2,:])\n",
    "print(a[2,:2,:])\n"
   ]
  },
  {
   "cell_type": "code",
   "execution_count": 40,
   "id": "85079d55",
   "metadata": {},
   "outputs": [
    {
     "name": "stdout",
     "output_type": "stream",
     "text": [
      "[[[ 0]\n",
      "  [ 3]\n",
      "  [ 6]]\n",
      "\n",
      " [[ 9]\n",
      "  [12]\n",
      "  [15]]\n",
      "\n",
      " [[18]\n",
      "  [21]\n",
      "  [24]]]\n"
     ]
    }
   ],
   "source": [
    "print(a[:,:,:1])\n",
    "\n"
   ]
  },
  {
   "cell_type": "code",
   "execution_count": 41,
   "id": "4fd0ed58",
   "metadata": {},
   "outputs": [
    {
     "name": "stdout",
     "output_type": "stream",
     "text": [
      "[[[13 14]\n",
      "  [16 17]]\n",
      "\n",
      " [[22 23]\n",
      "  [25 26]]]\n"
     ]
    }
   ],
   "source": [
    "print(a[1:,-2:,-2:])"
   ]
  },
  {
   "cell_type": "code",
   "execution_count": 44,
   "id": "23bc2c80",
   "metadata": {},
   "outputs": [
    {
     "name": "stdout",
     "output_type": "stream",
     "text": [
      "(500, 300) (500, 300) (500, 300)\n"
     ]
    }
   ],
   "source": [
    "# unpacking\n",
    "image = np.random.normal(size=(3,500,300))\n",
    "image_r, image_g, image_b = image\n",
    "print(image_r.shape, image_g.shape, image_b.shape)"
   ]
  },
  {
   "cell_type": "code",
   "execution_count": 49,
   "id": "54bb8263",
   "metadata": {},
   "outputs": [
    {
     "name": "stdout",
     "output_type": "stream",
     "text": [
      "(3, 100, 100) (3, 100, 100)\n",
      "(3, 100, 100) (3, 100, 100)\n"
     ]
    }
   ],
   "source": [
    "top_left = image[:, :100, :100]\n",
    "top_right = image[:, :100, -100:]\n",
    "bottom_left = image[:, -100:, :100]\n",
    "bottom_right = image[:, -100:, -100:]\n",
    "\n",
    "print(top_left.shape, top_right.shape)\n",
    "print(bottom_left.shape, bottom_right.shape)"
   ]
  },
  {
   "cell_type": "markdown",
   "id": "ddce8adc",
   "metadata": {},
   "source": [
    "## Indexing and Slicing Vector ndarrays"
   ]
  },
  {
   "cell_type": "code",
   "execution_count": 50,
   "id": "d62bd59e",
   "metadata": {},
   "outputs": [
    {
     "name": "stdout",
     "output_type": "stream",
     "text": [
      "ndarray: \n",
      "[0 1 2 3 4 5 6 7 8 9]\n",
      "\n",
      "[0 3 4]\n"
     ]
    }
   ],
   "source": [
    "a = np.arange(10)\n",
    "print(f\"ndarray: \\n{a}\\n\")\n",
    "\n",
    "indices = np.array([0,3,4])\n",
    "print(a[indices])\n"
   ]
  },
  {
   "cell_type": "code",
   "execution_count": 51,
   "id": "b14471ba",
   "metadata": {},
   "outputs": [
    {
     "name": "stdout",
     "output_type": "stream",
     "text": [
      "ndarray: \n",
      "[0 1 2 3 4 5 6 7 8 9]\n",
      "\n",
      "[0 0 5 5]\n"
     ]
    }
   ],
   "source": [
    "a = np.arange(10)\n",
    "print(f\"ndarray: \\n{a}\\n\")\n",
    "\n",
    "indices = np.array([0,0,5,5])\n",
    "print(a[indices])"
   ]
  },
  {
   "cell_type": "code",
   "execution_count": 53,
   "id": "f2ab5be3",
   "metadata": {},
   "outputs": [
    {
     "name": "stdout",
     "output_type": "stream",
     "text": [
      "ndarray: \n",
      "[0 1 2 3 4 5 6 7 8 9]\n",
      "\n",
      "[[1 2 3]\n",
      " [5 8 9]]\n"
     ]
    }
   ],
   "source": [
    "a = np.arange(10)\n",
    "print(f\"ndarray: \\n{a}\\n\")\n",
    "\n",
    "indices = np.array([[1, 2, 3], [5, 8, 9]])\n",
    "print(a[indices])"
   ]
  },
  {
   "cell_type": "code",
   "execution_count": 56,
   "id": "5dfd0d14",
   "metadata": {},
   "outputs": [
    {
     "name": "stdout",
     "output_type": "stream",
     "text": [
      "ndarray: \n",
      " [18 14 10 10  8 16  2  3  0  0] \n",
      "\n",
      "indices: \n",
      " [[[4 9 4 8]\n",
      "  [5 1 2 2]\n",
      "  [3 3 5 6]]\n",
      "\n",
      " [[7 8 6 1]\n",
      "  [8 9 9 8]\n",
      "  [4 3 8 8]]] \n",
      "\n",
      "a[indices]: \n",
      " [[[ 8  0  8  0]\n",
      "  [16 14 10 10]\n",
      "  [10 10 16  2]]\n",
      "\n",
      " [[ 3  0  2 14]\n",
      "  [ 0  0  0  0]\n",
      "  [ 8 10  0  0]]] \n",
      "\n"
     ]
    }
   ],
   "source": [
    "a = np.random.randint(0, 20, (10,))\n",
    "print(f\"ndarray: \\n {a} \\n\")\n",
    "\n",
    "indices = np.random.randint(0, 10, size=(2,3,4))\n",
    "print(f\"indices: \\n {indices} \\n\")\n",
    "bbbb\n",
    "\n",
    "print(f\"a[indices]: \\n {a[indices]} \\n\")"
   ]
  },
  {
   "cell_type": "code",
   "execution_count": 60,
   "id": "4d4a6ebf",
   "metadata": {},
   "outputs": [
    {
     "name": "stdout",
     "output_type": "stream",
     "text": [
      "ndarray: \n",
      "[[ 0  1  2  3]\n",
      " [ 4  5  6  7]\n",
      " [ 8  9 10 11]]\n",
      "\n",
      "indices: \n",
      "[0 2]\n",
      "indices: \n",
      "[[ 0  1  2  3]\n",
      " [ 8  9 10 11]]\n"
     ]
    }
   ],
   "source": [
    "a = np.arange(12).reshape((3,4))\n",
    "\n",
    "print(f\"ndarray: \\n{a}\\n\")\n",
    "\n",
    "indices = np.array([0,2]) # (2,)\n",
    "\n",
    "print(f\"indices: \\n{indices}\")\n",
    "\n",
    "print(f\"indices: \\n{a[indices]}\") # matrix의 경우 값의 인덱스를 가지고 온다. (2,4)가된다.\n"
   ]
  },
  {
   "cell_type": "code",
   "execution_count": 61,
   "id": "93a75181",
   "metadata": {},
   "outputs": [
    {
     "name": "stdout",
     "output_type": "stream",
     "text": [
      "indices: \n",
      "[0 0 1 1 2 2]\n",
      "indices: \n",
      "[[ 0  1  2  3]\n",
      " [ 0  1  2  3]\n",
      " [ 4  5  6  7]\n",
      " [ 4  5  6  7]\n",
      " [ 8  9 10 11]\n",
      " [ 8  9 10 11]]\n"
     ]
    }
   ],
   "source": [
    "indices = np.array([0,0,1,1,2,2])\n",
    "\n",
    "\n",
    "print(f\"indices: \\n{indices}\")  # (6,)\n",
    "\n",
    "print(f\"indices: \\n{a[indices]}\") # \\(6,4)"
   ]
  },
  {
   "cell_type": "code",
   "execution_count": 63,
   "id": "a6a3e192",
   "metadata": {},
   "outputs": [
    {
     "name": "stdout",
     "output_type": "stream",
     "text": [
      "ndarray: \n",
      "[[ 0  1  2  3]\n",
      " [ 4  5  6  7]\n",
      " [ 8  9 10 11]]\n",
      "\n",
      "indices: \n",
      "[[ 0  1  2]\n",
      " [-3 -2 -1]]\n",
      "indices: \n",
      "[[[ 0  1  2  3]\n",
      "  [ 4  5  6  7]\n",
      "  [ 8  9 10 11]]\n",
      "\n",
      " [[ 0  1  2  3]\n",
      "  [ 4  5  6  7]\n",
      "  [ 8  9 10 11]]]\n"
     ]
    }
   ],
   "source": [
    "a = np.arange(12).reshape((3,4))\n",
    "\n",
    "print(f\"ndarray: \\n{a}\\n\")\n",
    "\n",
    "indices = np.array([[0,1,2],[-3,-2,-1]]) # (2,3)\n",
    "print(f\"indices: \\n{indices}\")  \n",
    "\n",
    "print(f\"indices: \\n{a[indices]}\") # (2,3,4)가 된다ㅣ...\n",
    " "
   ]
  },
  {
   "cell_type": "code",
   "execution_count": 66,
   "id": "2d528362",
   "metadata": {},
   "outputs": [
    {
     "name": "stdout",
     "output_type": "stream",
     "text": [
      "ndarray: \n",
      "[[ 0  1  2  3]\n",
      " [ 4  5  6  7]\n",
      " [ 8  9 10 11]]\n",
      "\n",
      "[0]\n",
      "[6]\n",
      "[8]\n"
     ]
    }
   ],
   "source": [
    "a = np.arange(12).reshape((3,4))\n",
    "\n",
    "print(f\"ndarray: \\n{a}\\n\")\n",
    "\n",
    "indices0, indices1 = np.array([0]), np.array([0])\n",
    "print(a[indices0, indices1])\n",
    "\n",
    "\n",
    "indices0, indices1 = np.array([1]), np.array([2])\n",
    "print(a[indices0, indices1])\n",
    "\n",
    "\n",
    "indices0, indices1 = np.array([-1]), np.array([0])\n",
    "print(a[indices0, indices1])\n"
   ]
  },
  {
   "cell_type": "code",
   "execution_count": 67,
   "id": "29a86483",
   "metadata": {},
   "outputs": [
    {
     "name": "stdout",
     "output_type": "stream",
     "text": [
      "ndarray: \n",
      "[[ 0  1  2  3]\n",
      " [ 4  5  6  7]\n",
      " [ 8  9 10 11]]\n",
      "\n",
      "[ 1  6 11]\n"
     ]
    }
   ],
   "source": [
    "a = np.arange(12).reshape((3,4))\n",
    "\n",
    "print(f\"ndarray: \\n{a}\\n\")\n",
    "\n",
    "\n",
    "indices0, indices1 = np.array([0, 1, 2]), np.array([1, 2, 3])\n",
    "print(a[indices0, indices1])"
   ]
  },
  {
   "cell_type": "markdown",
   "id": "5d502c96",
   "metadata": {},
   "source": [
    "## Indexing with bool ndarrays"
   ]
  },
  {
   "cell_type": "code",
   "execution_count": 70,
   "id": "3a9b476f",
   "metadata": {},
   "outputs": [
    {
     "name": "stdout",
     "output_type": "stream",
     "text": [
      "ndarray: \n",
      "[0 1 2 3 4]\n",
      "b_indices: \n",
      "[ True False  True False  True]\n",
      "\n",
      "a[b_indices]: \n",
      "[0 2 4]\n"
     ]
    }
   ],
   "source": [
    " a = np.arange(5)\n",
    "print(f\"ndarray: \\n{a}\")\n",
    "\n",
    "b_indices = np.array([True, False, True, False, True])\n",
    "\n",
    "print(f\"b_indices: \\n{b_indices}\\n\") \n",
    "print(f\"a[b_indices]: \\n{a[b_indices]}\") "
   ]
  },
  {
   "cell_type": "code",
   "execution_count": 71,
   "id": "d851d1ef",
   "metadata": {},
   "outputs": [
    {
     "name": "stdout",
     "output_type": "stream",
     "text": [
      "ndarray: \n",
      "[ 7 13 10  7 18 10 18  8  1  7]\n",
      "b_indices: \n",
      "[False False  True False  True  True  True  True False False]\n",
      "\n",
      "b_indices: \n",
      "[10 18 10 18  8]\n",
      "\n"
     ]
    }
   ],
   "source": [
    " a = np.random.randint(0,20, (10,))\n",
    "print(f\"ndarray: \\n{a}\")\n",
    "\n",
    "b_indices = (a % 2 == 0)\n",
    "print(f\"b_indices: \\n{b_indices}\\n\") \n",
    "\n",
    "print(f\"b_indices: \\n{a[b_indices]}\\n\") \n"
   ]
  },
  {
   "cell_type": "code",
   "execution_count": 72,
   "id": "93f5d52e",
   "metadata": {},
   "outputs": [
    {
     "name": "stdout",
     "output_type": "stream",
     "text": [
      "ndarray: \n",
      "[[ 9 10]\n",
      " [17 16]]\n",
      "b_indices: \n",
      "[[ True False]\n",
      " [False  True]]\n",
      "\n",
      "b_indices: \n",
      "[ 9 16]\n",
      "\n"
     ]
    }
   ],
   "source": [
    " a = np.random.randint(0,20, (2,2))\n",
    "print(f\"ndarray: \\n{a}\")\n",
    "\n",
    "b_indices = np.array([[True,False],[False, True]])\n",
    "print(f\"b_indices: \\n{b_indices}\\n\") \n",
    "\n",
    "print(f\"b_indices: \\n{a[b_indices]}\\n\") \n"
   ]
  },
  {
   "cell_type": "markdown",
   "id": "854791a8",
   "metadata": {},
   "source": [
    "# Extracting Indices"
   ]
  },
  {
   "cell_type": "code",
   "execution_count": 75,
   "id": "1bb3f58a",
   "metadata": {},
   "outputs": [
    {
     "name": "stdout",
     "output_type": "stream",
     "text": [
      "a: \n",
      "[ True False  True False]\n",
      "\n",
      "nonzero: \n",
      "(array([0, 2], dtype=int64),)\n",
      "\n",
      "where: \n",
      "(array([0, 2], dtype=int64),)\n",
      "\n"
     ]
    }
   ],
   "source": [
    "a = np.array([True, False, True, False])\n",
    "\n",
    "nonzero = np.nonzero(a)\n",
    "where = np.where(a)\n",
    "\n",
    "print(f\"a: \\n{a}\\n\")\n",
    "print(f\"nonzero: \\n{nonzero}\\n\")\n",
    "print(f\"where: \\n{where}\\n\") # integer를 반환한다.\n"
   ]
  },
  {
   "cell_type": "code",
   "execution_count": 77,
   "id": "a485a697",
   "metadata": {},
   "outputs": [
    {
     "name": "stdout",
     "output_type": "stream",
     "text": [
      "a: \n",
      "[[[ True False  True]\n",
      "  [ True False False]]\n",
      "\n",
      " [[False  True  True]\n",
      "  [ True False  True]]]\n",
      "\n",
      "nonzero: \n",
      "(array([0, 0, 0, 1, 1, 1, 1], dtype=int64), array([0, 0, 1, 0, 0, 1, 1], dtype=int64), array([0, 2, 0, 1, 2, 0, 2], dtype=int64))\n",
      "\n",
      "where: \n",
      "(array([0, 0, 0, 1, 1, 1, 1], dtype=int64), array([0, 0, 1, 0, 0, 1, 1], dtype=int64), array([0, 2, 0, 1, 2, 0, 2], dtype=int64))\n",
      "\n"
     ]
    }
   ],
   "source": [
    "a = np.array([[[True, False, True],\n",
    "            [True, False, False]],\n",
    "              \n",
    "            [[False, True, True],\n",
    "            [True, False, True]]])\n",
    "\n",
    "nonzero = np.nonzero(a)\n",
    "where = np.where(a)\n",
    "\n",
    "print(f\"a: \\n{a}\\n\")\n",
    "print(f\"nonzero: \\n{nonzero}\\n\") # true인 인덱스만 반환해준다.\n",
    "# [0, 0, 0, 1, 1, 1, 1]  (0,0,0) / (0,0,2) / (0,1,0)...\n",
    "# [0, 0, 1, 0, 0, 1, 1]\n",
    "# [0, 2, 0, 1, 2, 0, 2]\n",
    "print(f\"where: \\n{where}\\n\") # integer를 반환한다. , true인 인덱스만 반환해준다.\n",
    "# [0, 0, 0, 1, 1, 1, 1]  \n",
    "# [0, 0, 1, 0, 0, 1, 1]\n",
    "# [0, 2, 0, 1, 2, 0, 2]"
   ]
  },
  {
   "cell_type": "code",
   "execution_count": 78,
   "id": "226dff1b",
   "metadata": {},
   "outputs": [
    {
     "name": "stdout",
     "output_type": "stream",
     "text": [
      "a: \n",
      "[[ 1 -2  1]\n",
      " [-2  1  1]\n",
      " [ 2  0  1]]\n",
      "\n",
      "u_nonzero: \n",
      "[ 1 -2  1 -2  1  1  2  1]\n",
      "\n",
      "u_where: \n",
      "[ 1 -2  1 -2  1  1  2  1]\n",
      "\n",
      "u_bool: \n",
      "[ 1 -2  1 -2  1  1  2  1]\n",
      "\n"
     ]
    }
   ],
   "source": [
    "a = np.random.randint(-2, 3, size = (3,3))\n",
    "\n",
    "u_nonzero = a[np.nonzero(a)] # ( , )\n",
    "u_where = a[np.where(a)]\n",
    "u_bool = a[a != 0]\n",
    "\n",
    "print(f\"a: \\n{a}\\n\")\n",
    "print(f\"u_nonzero: \\n{u_nonzero}\\n\") # 0이 아닌 값들만 나온다.\n",
    "print(f\"u_where: \\n{u_where}\\n\") # 0이 아닌 값들만 나온다. \n",
    "print(f\"u_bool: \\n{u_bool}\\n\")# bool 타입"
   ]
  },
  {
   "cell_type": "code",
   "execution_count": 80,
   "id": "24f6bcd4",
   "metadata": {},
   "outputs": [
    {
     "name": "stdout",
     "output_type": "stream",
     "text": [
      "a: \n",
      "[[-1  2  0]\n",
      " [-2 -2  2]\n",
      " [-1  0 -2]]\n",
      "\n",
      "u_nonzero: \n",
      "[2 2]\n",
      "\n",
      "u_where: \n",
      "[2 2]\n",
      "\n",
      "u_bool: \n",
      "[2 2]\n",
      "\n"
     ]
    }
   ],
   "source": [
    "a = np.random.randint(-2, 3, size = (3,3))\n",
    "\n",
    "u_nonzero = a[np.nonzero(a > 0)] \n",
    "u_where = a[np.where(a > 0)]\n",
    "u_bool = a[a > 0]\n",
    "\n",
    "print(f\"a: \\n{a}\\n\")\n",
    "print(f\"u_nonzero: \\n{u_nonzero}\\n\") # 0이 아닌 값들만 나온다.\n",
    "print(f\"u_where: \\n{u_where}\\n\") # 0이 아닌 값들만 나온다. \n",
    "print(f\"u_bool: \\n{u_bool}\\n\")# bool 타입"
   ]
  }
 ],
 "metadata": {
  "kernelspec": {
   "display_name": "Python 3 (ipykernel)",
   "language": "python",
   "name": "python3"
  },
  "language_info": {
   "codemirror_mode": {
    "name": "ipython",
    "version": 3
   },
   "file_extension": ".py",
   "mimetype": "text/x-python",
   "name": "python",
   "nbconvert_exporter": "python",
   "pygments_lexer": "ipython3",
   "version": "3.9.0"
  }
 },
 "nbformat": 4,
 "nbformat_minor": 5
}
