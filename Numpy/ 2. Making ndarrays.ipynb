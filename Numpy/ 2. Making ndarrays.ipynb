{
 "cells": [
  {
   "cell_type": "markdown",
   "id": "26e04a61",
   "metadata": {},
   "source": [
    "### np.array\n",
    "\n",
    "- np.array(object, dtype= None, *, copy= True, order = \"k\", subok = False, ndmin = 0, like = None)"
   ]
  },
  {
   "cell_type": "code",
   "execution_count": 1,
   "id": "05e0a98d",
   "metadata": {},
   "outputs": [
    {
     "name": "stdout",
     "output_type": "stream",
     "text": [
      "Interger case\n",
      "<class 'int'> <class 'numpy.ndarray'>\n",
      "Floating poiny case\n",
      "<class 'float'> <class 'numpy.ndarray'>\n"
     ]
    }
   ],
   "source": [
    "import numpy as np\n",
    "\n",
    "int_py = 3\n",
    "float_py = 3.14\n",
    "\n",
    "int_np = np.array(int_py)\n",
    "float_np = np.array(float_py)\n",
    "\n",
    "print(\"Interger case\")\n",
    "print(type(int_py), type(int_np))\n",
    "\n",
    "print(\"Floating poiny case\")\n",
    "print(type(float_py), type(float_np))\n"
   ]
  },
  {
   "cell_type": "code",
   "execution_count": 5,
   "id": "b7085345",
   "metadata": {},
   "outputs": [
    {
     "name": "stdout",
     "output_type": "stream",
     "text": [
      "<class 'list'> <class 'numpy.ndarray'>\n",
      "[1, 2, 3]-[1 2 3]\n"
     ]
    }
   ],
   "source": [
    "vec_py = [1,2,3]\n",
    "vec_np = np.array(vec_py)\n",
    "\n",
    "print(type(vec_py), type(vec_np))\n",
    "print(vec_py, vec_np, sep = \"-\")"
   ]
  },
  {
   "cell_type": "code",
   "execution_count": 7,
   "id": "d7dea726",
   "metadata": {},
   "outputs": [
    {
     "name": "stdout",
     "output_type": "stream",
     "text": [
      "<class 'list'> <class 'numpy.ndarray'>\n",
      "[[1 2 3]\n",
      " [4 5 6]]\n"
     ]
    }
   ],
   "source": [
    "mat_py = [[1,2,3],\n",
    "         [4,5,6]]\n",
    "\n",
    "mat_np = np.array(mat_py)\n",
    "\n",
    "print(type(mat_py), type(mat_np))\n",
    "\n",
    "print(mat_np)"
   ]
  },
  {
   "cell_type": "code",
   "execution_count": 12,
   "id": "45e30f3d",
   "metadata": {},
   "outputs": [
    {
     "name": "stdout",
     "output_type": "stream",
     "text": [
      "<class 'list'> <class 'numpy.ndarray'>\n",
      "[[[ 1  2  3]\n",
      "  [ 4  5  6]]\n",
      "\n",
      " [[11 12 13]\n",
      "  [14 15 16]]]\n"
     ]
    }
   ],
   "source": [
    "tensor_py = [[[1,2,3],\n",
    "         [4,5,6]],\n",
    "        [[11,12,13],\n",
    "        [14,15,16]]]\n",
    "\n",
    "tensor_np = np.array(tensor_py)\n",
    "\n",
    "print(type(tensor_py), type(tensor_np))\n",
    "\n",
    "print(tensor_np)"
   ]
  },
  {
   "cell_type": "code",
   "execution_count": 13,
   "id": "2054a986",
   "metadata": {},
   "outputs": [
    {
     "name": "stdout",
     "output_type": "stream",
     "text": [
      "()\n",
      "(3,)\n",
      "(2, 3)\n",
      "(2, 2, 3)\n"
     ]
    }
   ],
   "source": [
    "scalar_np = np.array(3.14)\n",
    "\n",
    "\n",
    "print(scalar_np.shape)\n",
    "print(vec_np.shape)\n",
    "print(mat_np.shape)\n",
    "print(tensor_np.shape)"
   ]
  },
  {
   "cell_type": "markdown",
   "id": "baff72e4",
   "metadata": {},
   "source": [
    "### ndarrays with Specific Values\n",
    "\n",
    "- numpy.zeros(shape, dtype = float, order = \"C\",*,like = None)\n",
    "- numpy.ones(shape, dtype = float, order = \"C\",*,like = None)\n",
    "- numpy.full(shape, fill_value, dtype = None, order = \"C\",*,like = None)\n",
    "- numpy.empty(shape, dtype = float, order = \"C\", *, like = None)\n",
    "---\n",
    "- numpy.zeros_like(a, dtype=None, order = \"k\", subok = True, shape = None)\n",
    "- numpy.ones_like(a, dtype=None, order = \"k\", subok = True, shape = None)\n",
    "- numpy.full_like(a,fill_value ,dtype=None, order = \"k\", subok = True, shape = None)\n",
    "- numpy.empty_like(prototype, dtype=None, order = \"k\", subok = True, shape = None)\n"
   ]
  },
  {
   "cell_type": "code",
   "execution_count": 18,
   "id": "bb6ae9ec",
   "metadata": {},
   "outputs": [
    {
     "name": "stdout",
     "output_type": "stream",
     "text": [
      "(2, 3)\n",
      "[[0. 0. 0.]\n",
      " [0. 0. 0.]]\n"
     ]
    }
   ],
   "source": [
    "\n",
    "M = np.zeros(shape=(2,3))\n",
    "\n",
    "print(M.shape)\n",
    "print(M)"
   ]
  },
  {
   "cell_type": "code",
   "execution_count": 19,
   "id": "e4c25a20",
   "metadata": {},
   "outputs": [
    {
     "name": "stdout",
     "output_type": "stream",
     "text": [
      "(2, 3)\n",
      "[[3.14 3.14 3.14]\n",
      " [3.14 3.14 3.14]]\n"
     ]
    }
   ],
   "source": [
    "M = np.full(shape=(2,3), fill_value = 3.14)\n",
    "\n",
    "print(M.shape)\n",
    "print(M)"
   ]
  },
  {
   "cell_type": "code",
   "execution_count": 20,
   "id": "25105bc7",
   "metadata": {},
   "outputs": [
    {
     "name": "stdout",
     "output_type": "stream",
     "text": [
      "(2, 3)\n",
      "[[3.14 3.14 3.14]\n",
      " [3.14 3.14 3.14]]\n"
     ]
    }
   ],
   "source": [
    "M = np.empty(shape=(2,3))\n",
    "\n",
    "print(M.shape)\n",
    "print(M)"
   ]
  },
  {
   "cell_type": "code",
   "execution_count": 21,
   "id": "edc6f34d",
   "metadata": {},
   "outputs": [
    {
     "name": "stdout",
     "output_type": "stream",
     "text": [
      "[[0. 0. 0.]\n",
      " [0. 0. 0.]]\n",
      "[[1. 1. 1.]\n",
      " [1. 1. 1.]]\n",
      "[[100. 100. 100.]\n",
      " [100. 100. 100.]]\n"
     ]
    }
   ],
   "source": [
    "M = np.full(shape=(2,3), fill_value = 3.14)\n",
    "\n",
    "zeros_like = np.zeros_like(M)\n",
    "ones_like = np.ones_like(M)\n",
    "full_like = np.full_like(M, fill_value = 100)\n",
    "\n",
    "print(zeros_like)\n",
    "print(ones_like)\n",
    "print(full_like)\n"
   ]
  },
  {
   "cell_type": "markdown",
   "id": "949438ff",
   "metadata": {},
   "source": [
    "### Making ndarrays with Fixed Interval\n",
    "\n",
    "- numpy.arange([start,]stop, [step,]dtype=None, * , like=None)"
   ]
  },
  {
   "cell_type": "code",
   "execution_count": 4,
   "id": "1b896957",
   "metadata": {},
   "outputs": [
    {
     "name": "stdout",
     "output_type": "stream",
     "text": [
      "[0 1 2 3 4 5 6 7 8 9]\n",
      "[2 3 4]\n",
      "[2 4 6 8]\n",
      "[ 0.  1.  2.  3.  4.  5.  6.  7.  8.  9. 10.]\n",
      "[1.5 2.5 3.5 4.5 5.5 6.5 7.5 8.5 9.5]\n"
     ]
    }
   ],
   "source": [
    "import numpy as np\n",
    "\n",
    "print(np.arange(10))\n",
    "print(np.arange(2,5))\n",
    "print(np.arange(2,10,2))\n",
    "print(np.arange(10.5)) # 10.5보다 작은 정수..\n",
    "print(np.arange(1.5, 10.5)) # 1.5 ~ 9.5"
   ]
  },
  {
   "cell_type": "markdown",
   "id": "164e142e",
   "metadata": {},
   "source": [
    "- numpy.linspace(start, stop, num=50, endpoint=True, retstep = False, dtype = None, axis = 0) "
   ]
  },
  {
   "cell_type": "code",
   "execution_count": 9,
   "id": "c0472a46",
   "metadata": {},
   "outputs": [
    {
     "name": "stdout",
     "output_type": "stream",
     "text": [
      "[0.   0.25 0.5  0.75 1.  ]\n",
      "[0.         0.11111111 0.22222222 0.33333333 0.44444444 0.55555556\n",
      " 0.66666667 0.77777778 0.88888889 1.        ]\n",
      "[[  1.    10.   100.  ]\n",
      " [  1.25  12.5  125.  ]\n",
      " [  1.5   15.   150.  ]\n",
      " [  1.75  17.5  175.  ]\n",
      " [  2.    20.   200.  ]]\n",
      "-----\n",
      "[0.   0.25 0.5  0.75 1.  ]\n",
      "[0.   0.25 0.5  0.75 1.  ]\n"
     ]
    }
   ],
   "source": [
    "# linspace은 처음점과 끝점을 포함한다. []\n",
    "print(np.linspace(0,1,5))\n",
    "print(np.linspace(0,1,10))\n",
    "\n",
    "# 1부터 2까지 5개, 10부터 20까지 5개....\n",
    "a = np.linspace([1,10,100],[2,20,200],5)\n",
    "print(a)\n",
    "\n",
    "print(\"-----\")\n",
    "print(np.arange(0, 1 + 0.25, 0.25))\n",
    "print(np.linspace(0, 1, 5))"
   ]
  },
  {
   "cell_type": "markdown",
   "id": "07608dfb",
   "metadata": {},
   "source": [
    "### Random Distributions\n",
    "\n",
    "- randim.randn(d0,d1,...,dn) # 전부 차원의 값 ex,(2,3) 2,3차원 normal, 표쥰정규분포에서 만든다.\n",
    "- random.normal(loc =0.0 , scale = 1.0, size = None)\n",
    "\n",
    "- 정규분포의 사용 예시: 일반적인 단순 회귀 예시 데이터에, epsilon = Normal(x,y)의 노이즈를 추가한다."
   ]
  },
  {
   "cell_type": "code",
   "execution_count": 14,
   "id": "14b7e944",
   "metadata": {},
   "outputs": [
    {
     "data": {
      "image/png": "[encoded data removed]",
      "text/plain": [
       "<Figure size 720x360 with 1 Axes>"
      ]
     },
     "metadata": {},
     "output_type": "display_data"
    },
    {
     "name": "stdout",
     "output_type": "stream",
     "text": [
      "(3000,)\n"
     ]
    }
   ],
   "source": [
    "import numpy as np\n",
    "import matplotlib.pyplot as plt\n",
    "plt.style.use('seaborn')\n",
    "\n",
    "fix, ax = plt.subplots(figsize=(10,5))\n",
    "random_values = np.random.randn(3000) # mu = 0, sigma = 1\n",
    "ax.hist(random_values, bins = 20)\n",
    "plt.show()\n",
    "\n",
    "print(random_values.shape)"
   ]
  },
  {
   "cell_type": "code",
   "execution_count": 19,
   "id": "540b4400",
   "metadata": {},
   "outputs": [
    {
     "data": {
      "text/plain": [
       "(200, 3)"
      ]
     },
     "execution_count": 19,
     "metadata": {},
     "output_type": "execute_result"
    }
   ],
   "source": [
    "normal1  = np.random.normal(loc = -2, scale = 1, size=(200,))\n",
    "normal2 = np.random.normal(0,2, size=(200,))\n",
    "normal3 = np.random.normal(3,5, size=(200,))\n",
    "\n",
    "# 위의 과정을 한 번에 해결할 수 있다.\n",
    "normal = np.random.normal(loc=[-2,0,3],\n",
    "                         scale = [1,2,5],\n",
    "                         size = (200,3))\n",
    "normal.shape"
   ]
  },
  {
   "cell_type": "code",
   "execution_count": 21,
   "id": "43584fcd",
   "metadata": {},
   "outputs": [
    {
     "name": "stdout",
     "output_type": "stream",
     "text": [
      "[[1.94852465 1.53599833 1.88900896]\n",
      " [2.18634535 2.92484882 1.78253057]\n",
      " [5.85106609 1.49392371 4.45978132]]\n"
     ]
    }
   ],
   "source": [
    "normal = np.random.normal(loc=2, scale = 1, size = (3,3))\n",
    "print(normal)"
   ]
  },
  {
   "cell_type": "markdown",
   "id": "9b480382",
   "metadata": {},
   "source": [
    "### Uniform Distributions\n",
    "\n",
    "\n",
    "- random.rand(d0,d1, ... ,dn) # [0,1)\n",
    "- random.unifom(low = 0.0 , high = 1.0, size = None)\n",
    "- random.randint(low, high = None, size = None, dtype = int)\n"
   ]
  },
  {
   "cell_type": "code",
   "execution_count": 37,
   "id": "c1bce8a1",
   "metadata": {},
   "outputs": [
    {
     "data": {
      "image/png": "[encoded data removed]",
      "text/plain": [
       "<Figure size 720x360 with 1 Axes>"
      ]
     },
     "metadata": {},
     "output_type": "display_data"
    },
    {
     "name": "stdout",
     "output_type": "stream",
     "text": [
      "(10000,)\n"
     ]
    }
   ],
   "source": [
    "fig, ax = plt.subplots(figsize = (10,5))\n",
    "uniform = np.random.rand(10000) # 0 ~ 1\n",
    "ax.hist(uniform, bins=10)\n",
    "\n",
    "plt.show()\n",
    "\n",
    "print(uniform.shape)"
   ]
  },
  {
   "cell_type": "code",
   "execution_count": 38,
   "id": "9ae603c3",
   "metadata": {},
   "outputs": [
    {
     "data": {
      "text/plain": [
       "array([[[0.56572164, 0.87270264, 0.1154784 , 0.79544775],\n",
       "        [0.5530837 , 0.75691379, 0.87874298, 0.33607999],\n",
       "        [0.26617087, 0.86499834, 0.69244503, 0.68663097]],\n",
       "\n",
       "       [[0.96457522, 0.16303332, 0.99136829, 0.85216223],\n",
       "        [0.70846148, 0.20087323, 0.90011598, 0.37336447],\n",
       "        [0.20451908, 0.71490525, 0.03572528, 0.67284066]]])"
      ]
     },
     "execution_count": 38,
     "metadata": {},
     "output_type": "execute_result"
    }
   ],
   "source": [
    "uniform = np.random.rand(2 ,3, 4)\n",
    "uniform"
   ]
  },
  {
   "cell_type": "code",
   "execution_count": 36,
   "id": "8cd944cc",
   "metadata": {},
   "outputs": [
    {
     "data": {
      "image/png": "[encoded data removed]",
      "text/plain": [
       "<Figure size 720x360 with 1 Axes>"
      ]
     },
     "metadata": {},
     "output_type": "display_data"
    },
    {
     "name": "stdout",
     "output_type": "stream",
     "text": [
      "(10000,)\n"
     ]
    }
   ],
   "source": [
    "fig, ax = plt.subplots(figsize = (10,5))\n",
    "uniform = np.random.uniform(low = -10, high =10, size = (10000,))\n",
    "ax.hist(uniform, bins=20)\n",
    "\n",
    "plt.show()\n",
    "\n",
    "print(uniform.shape)"
   ]
  },
  {
   "cell_type": "code",
   "execution_count": 40,
   "id": "31d9c891",
   "metadata": {},
   "outputs": [
    {
     "name": "stdout",
     "output_type": "stream",
     "text": [
      "[6 3 0 2 6 3 3 5 5 6 3 2 0 5 6 0 6 0 0 4]\n"
     ]
    }
   ],
   "source": [
    "# integer한 값을 추출한다.../ ex. binary한 노이즈를 추가할 때..\n",
    "randint = np.random.randint(low = 0, high = 7, size = (20,)) # [0,7)\n",
    "print(randint)"
   ]
  },
  {
   "cell_type": "code",
   "execution_count": null,
   "id": "24b0191a",
   "metadata": {},
   "outputs": [],
   "source": []
  }
 ],
 "metadata": {
  "kernelspec": {
   "display_name": "Python 3 (ipykernel)",
   "language": "python",
   "name": "python3"
  },
  "language_info": {
   "codemirror_mode": {
    "name": "ipython",
    "version": 3
   },
   "file_extension": ".py",
   "mimetype": "text/x-python",
   "name": "python",
   "nbconvert_exporter": "python",
   "pygments_lexer": "ipython3",
   "version": "3.9.0"
  }
 },
 "nbformat": 4,
 "nbformat_minor": 5
}
