{
 "cells": [
  {
   "cell_type": "markdown",
   "id": "ed8c0144",
   "metadata": {},
   "source": [
    "## Object and ndarrays\n",
    "\n",
    "- Object = Data(Variable) + Methods(Function).\n",
    "- instantiate(객체화).\n",
    "- Numpy와 Matplotlib에서 제공해주는 Object를 다룬다. \n",
    "- dir(): Object의 기능들.\n",
    "- type(): Object를 추출."
   ]
  },
  {
   "cell_type": "markdown",
   "id": "67fad30a",
   "metadata": {},
   "source": [
    "## Special Methods\n",
    "\n",
    " 1. Special Methods of int Objects\n",
    "  - \"+\" --->(interpreter) __add__ / len() --->(interpreter) __len__  ...etc\n",
    " 2. Different Special Methods in Different Objects\n",
    "  - list: \"+\" -->(interpreter) __add__(concat)"
   ]
  },
  {
   "cell_type": "markdown",
   "id": "04faadea",
   "metadata": {},
   "source": [
    "  \n",
    "## Namespace and Import\n",
    " - Namespace numpy"
   ]
  },
  {
   "cell_type": "code",
   "execution_count": 9,
   "id": "21218334",
   "metadata": {},
   "outputs": [
    {
     "name": "stdout",
     "output_type": "stream",
     "text": [
      "mean:  30.0\n",
      "variance:  200.0\n",
      "<class 'numpy.ndarray'>\n",
      "['T', '__abs__', '__add__', '__and__', '__array__', '__array_finalize__', '__array_function__', '__array_interface__', '__array_prepare__', '__array_priority__', '__array_struct__', '__array_ufunc__', '__array_wrap__', '__bool__', '__class__', '__complex__', '__contains__', '__copy__', '__deepcopy__', '__delattr__', '__delitem__', '__dir__', '__divmod__', '__doc__', '__eq__', '__float__', '__floordiv__', '__format__', '__ge__', '__getattribute__', '__getitem__', '__gt__', '__hash__', '__iadd__', '__iand__', '__ifloordiv__', '__ilshift__', '__imatmul__', '__imod__', '__imul__', '__index__', '__init__', '__init_subclass__', '__int__', '__invert__', '__ior__', '__ipow__', '__irshift__', '__isub__', '__iter__', '__itruediv__', '__ixor__', '__le__', '__len__', '__lshift__', '__lt__', '__matmul__', '__mod__', '__mul__', '__ne__', '__neg__', '__new__', '__or__', '__pos__', '__pow__', '__radd__', '__rand__', '__rdivmod__', '__reduce__', '__reduce_ex__', '__repr__', '__rfloordiv__', '__rlshift__', '__rmatmul__', '__rmod__', '__rmul__', '__ror__', '__rpow__', '__rrshift__', '__rshift__', '__rsub__', '__rtruediv__', '__rxor__', '__setattr__', '__setitem__', '__setstate__', '__sizeof__', '__str__', '__sub__', '__subclasshook__', '__truediv__', '__xor__', 'all', 'any', 'argmax', 'argmin', 'argpartition', 'argsort', 'astype', 'base', 'byteswap', 'choose', 'clip', 'compress', 'conj', 'conjugate', 'copy', 'ctypes', 'cumprod', 'cumsum', 'data', 'diagonal', 'dot', 'dtype', 'dump', 'dumps', 'fill', 'flags', 'flat', 'flatten', 'getfield', 'imag', 'item', 'itemset', 'itemsize', 'max', 'mean', 'min', 'nbytes', 'ndim', 'newbyteorder', 'nonzero', 'partition', 'prod', 'ptp', 'put', 'ravel', 'real', 'repeat', 'reshape', 'resize', 'round', 'searchsorted', 'setfield', 'setflags', 'shape', 'size', 'sort', 'squeeze', 'std', 'strides', 'sum', 'swapaxes', 'take', 'tobytes', 'tofile', 'tolist', 'tostring', 'trace', 'transpose', 'var', 'view']\n"
     ]
    }
   ],
   "source": [
    "import numpy as np\n",
    "\n",
    "scores = [10, 20, 30, 40, 50]\n",
    "print(\"mean: \", np.mean(scores))\n",
    "print(\"variance: \", np.var(scores))\n",
    "\n",
    "a = np.array([1,2,3])\n",
    "print(type(a))\n",
    "print(dir(a))"
   ]
  },
  {
   "cell_type": "markdown",
   "id": "8a3c4222",
   "metadata": {},
   "source": [
    " - __ndarray Object of Numpy__\n",
    "    + Element-wise Operations of ndarrays"
   ]
  },
  {
   "cell_type": "code",
   "execution_count": 10,
   "id": "127771bc",
   "metadata": {},
   "outputs": [
    {
     "name": "stdout",
     "output_type": "stream",
     "text": [
      "[1, 2, 3, 4, 5, 6]\n",
      "[5, 7, 9]\n"
     ]
    }
   ],
   "source": [
    "# list 사용한 element-wise\n",
    "u = [1,2,3]\n",
    "v = [4,5,6]\n",
    "\n",
    "w = u + v\n",
    "print(w)\n",
    "\n",
    "w = [0] * len(u)\n",
    "for idx in range(len(u)):\n",
    "    w[idx] = u[idx] + v[idx]\n",
    "    \n",
    "print(w)"
   ]
  },
  {
   "cell_type": "code",
   "execution_count": 16,
   "id": "4498995e",
   "metadata": {},
   "outputs": [
    {
     "name": "stdout",
     "output_type": "stream",
     "text": [
      "Vector : [5 7 9]\n",
      "Matrix : [[12 14 16]\n",
      " [18 20 22]\n",
      " [24 26 28]]\n"
     ]
    }
   ],
   "source": [
    "# numpy 사용\n",
    "\n",
    "# vector\n",
    "u = np.array([1,2,3])\n",
    "v = np.array([4,5,6])\n",
    "print(\"Vector :\" ,u + v)\n",
    "\n",
    "# matrix\n",
    "M = np.array([[1,2,3],\n",
    "            [4,5,6],\n",
    "            [7,8,9]])\n",
    "\n",
    "N = np.array([[11,12,13],\n",
    "            [14,15,16],\n",
    "            [17,18,19]])\n",
    "\n",
    "print(\"Matrix :\", M + N)\n"
   ]
  },
  {
   "cell_type": "markdown",
   "id": "c92433bf",
   "metadata": {},
   "source": [
    "## Tensors and ndarrays\n",
    "- Hierarchy of Tensors\n",
    "    - scalr 값 하나라도 ndarray Objects라고 인식해야한다.(=())\n",
    "    - Vector(first order tensor) scalr를 연결 시킨 것이다. (=(m,))\n",
    "    - Matrix는 Vector의 집합(??).(=(n,m))\n",
    "    - Tensor는 Matrix의 집합(??).(=(o,n,m))\n",
    "    - 전부 다 ndarray의 데이터 타입을 가지고 있다."
   ]
  },
  {
   "cell_type": "markdown",
   "id": "3cd88af7",
   "metadata": {},
   "source": [
    "- Vector ndarrays\n",
    "    + (m,)라고 표현하고 m개위 ndarray가 모여서 (m,)의 ndarray가 된다.\n",
    "- Matrix ndarrays\n",
    "    + (n,m)(n = Outer 차원, m = inner 차원), (n,m) -> (n,)의 ndarrays를 가지고 -> 그 중 하나를 열어보면 (m,)의 ndarrays를 가진다. \n",
    "- Tensor ndarrays\n",
    "    + (o,n,m), (o,)의 ndarrays를 가지는 Object -> 그 중 하나는 (n,m)이며 -> 그 중 하나는 (m,)으로 이루어져있다.\n",
    "<br></br>    \n",
    "\n",
    "Outer ---------------> Inner\n",
    "\n",
    "(n1,n2, .....,n(N-1), n(N)"
   ]
  },
  {
   "cell_type": "code",
   "execution_count": null,
   "id": "5a0e90ad",
   "metadata": {},
   "outputs": [],
   "source": []
  }
 ],
 "metadata": {
  "kernelspec": {
   "display_name": "Python 3 (ipykernel)",
   "language": "python",
   "name": "python3"
  },
  "language_info": {
   "codemirror_mode": {
    "name": "ipython",
    "version": 3
   },
   "file_extension": ".py",
   "mimetype": "text/x-python",
   "name": "python",
   "nbconvert_exporter": "python",
   "pygments_lexer": "ipython3",
   "version": "3.9.0"
  }
 },
 "nbformat": 4,
 "nbformat_minor": 5
}
