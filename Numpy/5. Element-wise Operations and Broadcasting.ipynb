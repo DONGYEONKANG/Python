{
 "cells": [
  {
   "cell_type": "markdown",
   "id": "036a37e9",
   "metadata": {},
   "source": [
    "### Vector-vector Case"
   ]
  },
  {
   "cell_type": "code",
   "execution_count": 1,
   "id": "11dbdf31",
   "metadata": {},
   "outputs": [
    {
     "name": "stdout",
     "output_type": "stream",
     "text": [
      "a:  [ 2 -2  4 -1  1]\n",
      "b:  [-1  4  1 -5  3] \n",
      "\n",
      "a+b:  [ 1  2  5 -6  4]\n"
     ]
    }
   ],
   "source": [
    "import numpy as np\n",
    "\n",
    "a = np.random.randint(-5,5, (5,))\n",
    "b = np.random.randint(-5, 5, (5,))\n",
    "\n",
    "print(\"a: \", a)\n",
    "print(\"b: \", b, \"\\n\")\n",
    "\n",
    "print(\"a+b: \", a+b)"
   ]
  },
  {
   "cell_type": "code",
   "execution_count": 5,
   "id": "1d7cbcc7",
   "metadata": {},
   "outputs": [
    {
     "name": "stdout",
     "output_type": "stream",
     "text": [
      "a + b:  [5 3 6 7 4]\n",
      "a - b:  [-1  1 -2  1  0]\n",
      "a * b:  [ 6  2  8 12  4]\n",
      "a / b:  [0.66666667 2.         0.5        1.33333333 1.        ]\n",
      "a // b:  [0 2 0 1 1]\n",
      "a % b:  [2 0 2 1 0]\n",
      "a ** b:  [ 8  2 16 64  4]\n"
     ]
    }
   ],
   "source": [
    "a = np.random.randint(1,5, (5,))\n",
    "b = np.random.randint(1, 5, (5,))\n",
    "\n",
    "print(\"a + b: \", a + b)\n",
    "print(\"a - b: \", a - b)\n",
    "print(\"a * b: \", a * b)\n",
    "print(\"a / b: \", a / b)\n",
    "print(\"a // b: \", a // b)\n",
    "print(\"a % b: \", a % b)\n",
    "print(\"a ** b: \", a ** b)"
   ]
  },
  {
   "cell_type": "code",
   "execution_count": 7,
   "id": "7d0017aa",
   "metadata": {},
   "outputs": [
    {
     "name": "stdout",
     "output_type": "stream",
     "text": [
      "a + b:  [5 3 6 7 4]\n",
      "a - b:  [-1  1 -2  1  0]\n",
      "a * b:  [ 6  2  8 12  4]\n",
      "a / b:  [0.66666667 2.         0.5        1.33333333 1.        ]\n",
      "a // b:  [0 2 0 1 1]\n",
      "a % b:  [2 0 2 1 0]\n",
      "a ** b:  [ 8  2 16 64  4]\n"
     ]
    }
   ],
   "source": [
    "print(\"a + b: \", a.__add__(b))\n",
    "print(\"a - b: \", a.__sub__(b))\n",
    "print(\"a * b: \", a.__mul__(b))\n",
    "print(\"a / b: \", a .__truediv__(b))\n",
    "print(\"a // b: \", a.__floordiv__(b))\n",
    "print(\"a % b: \", a % b)\n",
    "print(\"a ** b: \", a ** b)"
   ]
  },
  {
   "cell_type": "markdown",
   "id": "eed4b3cb",
   "metadata": {},
   "source": [
    "### Matrix-matrix Case"
   ]
  },
  {
   "cell_type": "code",
   "execution_count": null,
   "id": "e58f983b",
   "metadata": {},
   "outputs": [],
   "source": [
    "M = np.random.randint(1,5, (2,3))\n",
    "N = np.random.randint(1, 5, (2,3))\n",
    "\n",
    "print(\"M: \\n\", M)\n",
    "print(\"N: \\n\", N , \"\\n\")\n",
    "\n",
    "print(\"M + N: \\n\", M + N)\n",
    "print(\"M - N: \\n\", M - N)"
   ]
  },
  {
   "cell_type": "markdown",
   "id": "1adf70ef",
   "metadata": {},
   "source": [
    "### Element-wise Multiplication and Masking"
   ]
  },
  {
   "cell_type": "code",
   "execution_count": 13,
   "id": "849b0e28",
   "metadata": {},
   "outputs": [
    {
     "name": "stdout",
     "output_type": "stream",
     "text": [
      "input :  [0 1 2 3 4]\n",
      "mask:  [0 1 0 1 0]\n",
      "output:  [0 1 0 3 0]\n"
     ]
    }
   ],
   "source": [
    "a = np.arange(5)\n",
    "mask = np.array([0,1,0,1,0])\n",
    "\n",
    "print(\"input : \", a)\n",
    "print(\"mask: \", mask)\n",
    "print(\"output: \", a * mask) # 원하는 부분만 0으로,,! ex. max_pooling에서 [[2,7],[8,10]] -> [[0,0],[0,1]] bacause of back proporgatino.."
   ]
  },
  {
   "cell_type": "code",
   "execution_count": 17,
   "id": "5b8222a0",
   "metadata": {},
   "outputs": [
    {
     "name": "stdout",
     "output_type": "stream",
     "text": [
      "input : \n",
      " [[1 2]\n",
      " [3 4]]\n",
      "mask: \n",
      " [[0 0]\n",
      " [1 0]]\n",
      "output: \n",
      " [[0 0]\n",
      " [3 0]]\n"
     ]
    }
   ],
   "source": [
    "a = np.arange(1, 5).reshape((2,2))\n",
    "mask = np.array([[0,0],[1,0]])\n",
    "\n",
    "print(\"input : \\n\", a)\n",
    "print(\"mask: \\n\", mask`)\n",
    "print(\"output: \\n\", a * mask)"
   ]
  },
  {
   "cell_type": "markdown",
   "id": "65d5a94c",
   "metadata": {},
   "source": [
    "### Broadcasting in Numpy\n",
    "\n",
    "- Broadcasting : shape의 일정하지 않을 때 numpy가 shape을 알아서 맞춰 연산한다.  ex)(3,4)일 때 (3,1) or (1,4)의 연산이 가능해진다. / But bug조심!\n",
    "\n",
    "- (3,) -> 1차원 텐서 / (1,3) -> 2차원 텐서, (3,1) -> 2차원 텐서 .. 명백히 다르다.\n"
   ]
  },
  {
   "cell_type": "markdown",
   "id": "833a4c5e",
   "metadata": {},
   "source": [
    "# When ndims Are Equal(Matrices)\n",
    "- 브로드케스팅이랑 차원을 맞춰서 연산하는 것!\n",
    "- ex. (3, 3) -> (1, 3) = (3,3)\n"
   ]
  },
  {
   "cell_type": "code",
   "execution_count": 4,
   "id": "0d8f2ef9",
   "metadata": {},
   "outputs": [
    {
     "name": "stdout",
     "output_type": "stream",
     "text": [
      "A: 2/(3, 3)\n",
      "[[0 1 2]\n",
      " [3 4 5]\n",
      " [6 7 8]]\n",
      "-----------------------\n",
      "B: 2/(1, 3)\n",
      "[[ 0 10 20]]\n",
      "-----------------------\n",
      "A + B: 2/(3, 3)\n",
      "[[ 0 11 22]\n",
      " [ 3 14 25]\n",
      " [ 6 17 28]]\n"
     ]
    }
   ],
   "source": [
    "import numpy as np\n",
    "\n",
    "# 3,3 / 1,3\n",
    "A = np.arange(9).reshape(3,3)\n",
    "B = 10 * np.arange(3).reshape((-1,3))\n",
    "C = A + B\n",
    "\n",
    "print(f\"A: {A.ndim}/{A.shape}\\n{A}\")\n",
    "print(\"-----------------------\")\n",
    "print(f\"B: {B.ndim}/{B.shape}\\n{B}\")\n",
    "print(\"-----------------------\")\n",
    "print(f\"A + B: {C.ndim}/{C.shape}\\n{C}\")"
   ]
  },
  {
   "cell_type": "code",
   "execution_count": 5,
   "id": "150cc033",
   "metadata": {},
   "outputs": [
    {
     "name": "stdout",
     "output_type": "stream",
     "text": [
      "A: 2/(3, 3)\n",
      "[[0 1 2]\n",
      " [3 4 5]\n",
      " [6 7 8]]\n",
      "-----------------------\n",
      "B: 2/(3, 1)\n",
      "[[ 0]\n",
      " [10]\n",
      " [20]]\n",
      "-----------------------\n",
      "A + B: 2/(3, 3)\n",
      "[[ 0  1  2]\n",
      " [13 14 15]\n",
      " [26 27 28]]\n"
     ]
    }
   ],
   "source": [
    "# 3,3 / 3,1\n",
    "A = np.arange(9).reshape(3,3)\n",
    "B = 10 * np.arange(3).reshape((3,-1))\n",
    "C = A + B\n",
    "\n",
    "print(f\"A: {A.ndim}/{A.shape}\\n{A}\")\n",
    "print(\"-----------------------\")\n",
    "print(f\"B: {B.ndim}/{B.shape}\\n{B}\")\n",
    "print(\"-----------------------\")\n",
    "print(f\"A + B: {C.ndim}/{C.shape}\\n{C}\")"
   ]
  },
  {
   "cell_type": "code",
   "execution_count": 7,
   "id": "6db19b9f",
   "metadata": {},
   "outputs": [
    {
     "name": "stdout",
     "output_type": "stream",
     "text": [
      "A: 2/(3, 1)\n",
      "[[0]\n",
      " [1]\n",
      " [2]]\n",
      "-----------------------\n",
      "B: 2/(1, 3)\n",
      "[[ 0 10 20]]\n",
      "-----------------------\n",
      "A + B: 2/(3, 3)\n",
      "[[ 0 10 20]\n",
      " [ 1 11 21]\n",
      " [ 2 12 22]]\n"
     ]
    }
   ],
   "source": [
    "# 3,1/1,3\n",
    "\n",
    "A = np.arange(3).reshape((3,-1))\n",
    "B = 10 * np.arange(3).reshape((-1,3))\n",
    "C = A + B\n",
    "\n",
    "print(f\"A: {A.ndim}/{A.shape}\\n{A}\")\n",
    "print(\"-----------------------\")\n",
    "print(f\"B: {B.ndim}/{B.shape}\\n{B}\")\n",
    "print(\"-----------------------\")\n",
    "print(f\"A + B: {C.ndim}/{C.shape}\\n{C}\")\n"
   ]
  },
  {
   "cell_type": "code",
   "execution_count": 8,
   "id": "09df914b",
   "metadata": {},
   "outputs": [
    {
     "name": "stdout",
     "output_type": "stream",
     "text": [
      "A: 3/(2, 3, 3)\n",
      "[[[ 0  1  2]\n",
      "  [ 3  4  5]\n",
      "  [ 6  7  8]]\n",
      "\n",
      " [[ 9 10 11]\n",
      "  [12 13 14]\n",
      "  [15 16 17]]]\n",
      "-----------------------\n",
      "B: 3/(1, 3, 3)\n",
      "[[[ 0 10 20]\n",
      "  [30 40 50]\n",
      "  [60 70 80]]]\n",
      "-----------------------\n",
      "A + B: 3/(2, 3, 3)\n",
      "[[[ 0 11 22]\n",
      "  [33 44 55]\n",
      "  [66 77 88]]\n",
      "\n",
      " [[ 9 20 31]\n",
      "  [42 53 64]\n",
      "  [75 86 97]]]\n"
     ]
    }
   ],
   "source": [
    "# (2,3,3) + (1,3,3)\n",
    "\n",
    "A = np.arange(18).reshape((2, 3, 3))\n",
    "B = 10 * np.arange(9).reshape((1, 3, 3))\n",
    "C = A + B\n",
    "\n",
    "\n",
    "print(f\"A: {A.ndim}/{A.shape}\\n{A}\")\n",
    "print(\"-----------------------\")\n",
    "print(f\"B: {B.ndim}/{B.shape}\\n{B}\")\n",
    "print(\"-----------------------\")\n",
    "print(f\"A + B: {C.ndim}/{C.shape}\\n{C}\")"
   ]
  },
  {
   "cell_type": "code",
   "execution_count": 9,
   "id": "91d861c6",
   "metadata": {},
   "outputs": [
    {
     "name": "stdout",
     "output_type": "stream",
     "text": [
      "A: 3/(2, 3, 3)\n",
      "[[[ 0  1  2]\n",
      "  [ 3  4  5]\n",
      "  [ 6  7  8]]\n",
      "\n",
      " [[ 9 10 11]\n",
      "  [12 13 14]\n",
      "  [15 16 17]]]\n",
      "-----------------------\n",
      "B: 3/(2, 1, 3)\n",
      "[[[ 0 10 20]]\n",
      "\n",
      " [[30 40 50]]]\n",
      "-----------------------\n",
      "A + B: 3/(2, 3, 3)\n",
      "[[[ 0 11 22]\n",
      "  [ 3 14 25]\n",
      "  [ 6 17 28]]\n",
      "\n",
      " [[39 50 61]\n",
      "  [42 53 64]\n",
      "  [45 56 67]]]\n"
     ]
    }
   ],
   "source": [
    "# (2,3,3) + (2,1,3)\n",
    "\n",
    "A = np.arange(18).reshape((2, 3, 3))\n",
    "B = 10 * np.arange(6).reshape((2, 1, 3))\n",
    "C = A + B\n",
    "\n",
    "\n",
    "print(f\"A: {A.ndim}/{A.shape}\\n{A}\")\n",
    "print(\"-----------------------\")\n",
    "print(f\"B: {B.ndim}/{B.shape}\\n{B}\")\n",
    "print(\"-----------------------\")\n",
    "print(f\"A + B: {C.ndim}/{C.shape}\\n{C}\")"
   ]
  },
  {
   "cell_type": "code",
   "execution_count": 10,
   "id": "be104f5b",
   "metadata": {},
   "outputs": [
    {
     "name": "stdout",
     "output_type": "stream",
     "text": [
      "A: 3/(2, 3, 3)\n",
      "[[[ 0  1  2]\n",
      "  [ 3  4  5]\n",
      "  [ 6  7  8]]\n",
      "\n",
      " [[ 9 10 11]\n",
      "  [12 13 14]\n",
      "  [15 16 17]]]\n",
      "-----------------------\n",
      "B: 3/(2, 3, 1)\n",
      "[[[ 0]\n",
      "  [10]\n",
      "  [20]]\n",
      "\n",
      " [[30]\n",
      "  [40]\n",
      "  [50]]]\n",
      "-----------------------\n",
      "A + B: 3/(2, 3, 3)\n",
      "[[[ 0  1  2]\n",
      "  [13 14 15]\n",
      "  [26 27 28]]\n",
      "\n",
      " [[39 40 41]\n",
      "  [52 53 54]\n",
      "  [65 66 67]]]\n"
     ]
    }
   ],
   "source": [
    " # (2,3,3)  + (2,3,1)\n",
    "\n",
    "A = np.arange(18).reshape((2, 3, 3))\n",
    "B = 10 * np.arange(6).reshape((2, 3, 1))\n",
    "C = A + B\n",
    "\n",
    "\n",
    "print(f\"A: {A.ndim}/{A.shape}\\n{A}\")\n",
    "print(\"-----------------------\")\n",
    "print(f\"B: {B.ndim}/{B.shape}\\n{B}\")\n",
    "print(\"-----------------------\")\n",
    "print(f\"A + B: {C.ndim}/{C.shape}\\n{C}\")"
   ]
  },
  {
   "cell_type": "markdown",
   "id": "7a6d9d47",
   "metadata": {},
   "source": [
    "### When ndims Are Not Equal"
   ]
  },
  {
   "cell_type": "code",
   "execution_count": 17,
   "id": "6a8851ea",
   "metadata": {},
   "outputs": [
    {
     "name": "stdout",
     "output_type": "stream",
     "text": [
      "shapes: ()/(5,)\n",
      "a:  3\n",
      "u:  [0 1 2 3 4] \n",
      "\n",
      "a + u [3 4 5 6 7]\n",
      "a - u [ 3  2  1  0 -1]\n",
      "a * u [ 0  3  6  9 12]\n",
      "a / u [ inf 3.   1.5  1.   0.75]\n",
      "a > u [ True  True  True False False]\n"
     ]
    },
    {
     "name": "stderr",
     "output_type": "stream",
     "text": [
      "C:\\Users\\gi\\AppData\\Local\\Temp/ipykernel_28976/3205222882.py:13: RuntimeWarning: divide by zero encountered in true_divide\n",
      "  print(\"a / u\", a / u)\n"
     ]
    }
   ],
   "source": [
    "# 3 * (5,)  \n",
    "a = np.array(3)\n",
    "u = np.arange(5)\n",
    "\n",
    "print(f\"shapes: {a.shape}/{u.shape}\")\n",
    "print(\"a: \", a)\n",
    "print(\"u: \", u, \"\\n\")\n",
    "\n",
    "\n",
    "print(\"a + u\", a + u)\n",
    "print(\"a - u\", a - u)\n",
    "print(\"a * u\", a * u)\n",
    "print(\"a / u\", a / u)\n",
    "\n",
    "print(\"a > u\", a > u)"
   ]
  },
  {
   "cell_type": "code",
   "execution_count": 18,
   "id": "c23d855c",
   "metadata": {},
   "outputs": [
    {
     "name": "stdout",
     "output_type": "stream",
     "text": [
      "A: 1/(2,)\n",
      "[10 20]\n",
      "-----------------------\n",
      "B: 2/(3, 2)\n",
      "[[ 0 10]\n",
      " [20 30]\n",
      " [40 50]]\n",
      "-----------------------\n",
      "A + B: 2/(3, 2)\n",
      "[[10 30]\n",
      " [30 50]\n",
      " [50 70]]\n"
     ]
    }
   ],
   "source": [
    "# 오른쪽 차원부터 맞춘다..\n",
    "# (2, ) + (3,2)\n",
    "\n",
    "A = np.array([10,20])\n",
    "B = 10 * np.arange(6).reshape((3,2))\n",
    "C = A + B\n",
    "\n",
    "\n",
    "print(f\"A: {A.ndim}/{A.shape}\\n{A}\")\n",
    "print(\"-----------------------\")\n",
    "print(f\"B: {B.ndim}/{B.shape}\\n{B}\")\n",
    "print(\"-----------------------\")\n",
    "print(f\"A + B: {C.ndim}/{C.shape}\\n{C}\")"
   ]
  },
  {
   "cell_type": "code",
   "execution_count": 19,
   "id": "8337c4b4",
   "metadata": {},
   "outputs": [
    {
     "name": "stdout",
     "output_type": "stream",
     "text": [
      "A: 3/(2, 3, 4)\n",
      "[[[ 0  1  2  3]\n",
      "  [ 4  5  6  7]\n",
      "  [ 8  9 10 11]]\n",
      "\n",
      " [[12 13 14 15]\n",
      "  [16 17 18 19]\n",
      "  [20 21 22 23]]]\n",
      "-----------------------\n",
      "B: 2/(3, 4)\n",
      "[[  0  10  20  30]\n",
      " [ 40  50  60  70]\n",
      " [ 80  90 100 110]]\n",
      "-----------------------\n",
      "A + B: 3/(2, 3, 4)\n",
      "[[[  0  11  22  33]\n",
      "  [ 44  55  66  77]\n",
      "  [ 88  99 110 121]]\n",
      "\n",
      " [[ 12  23  34  45]\n",
      "  [ 56  67  78  89]\n",
      "  [100 111 122 133]]]\n"
     ]
    }
   ],
   "source": [
    "# (2,3,4) / (3,4) 연산이 가능한 2차원은 (3,4)뿐이 안된다. 오른쪽 차원부터... !!!\n",
    "\n",
    "\n",
    "A = np.arange(2*3*4).reshape((2,3,4))\n",
    "B = 10 * np.arange(3*4).reshape((3,4))\n",
    "C = A + B\n",
    "\n",
    "\n",
    "print(f\"A: {A.ndim}/{A.shape}\\n{A}\")\n",
    "print(\"-----------------------\")\n",
    "print(f\"B: {B.ndim}/{B.shape}\\n{B}\")\n",
    "print(\"-----------------------\")\n",
    "print(f\"A + B: {C.ndim}/{C.shape}\\n{C}\")\n"
   ]
  }
 ],
 "metadata": {
  "kernelspec": {
   "display_name": "Python 3 (ipykernel)",
   "language": "python",
   "name": "python3"
  },
  "language_info": {
   "codemirror_mode": {
    "name": "ipython",
    "version": 3
   },
   "file_extension": ".py",
   "mimetype": "text/x-python",
   "name": "python",
   "nbconvert_exporter": "python",
   "pygments_lexer": "ipython3",
   "version": "3.9.0"
  }
 },
 "nbformat": 4,
 "nbformat_minor": 5
}
