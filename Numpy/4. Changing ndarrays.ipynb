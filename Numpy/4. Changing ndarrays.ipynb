{
 "cells": [
  {
   "cell_type": "markdown",
   "id": "630b7d5a",
   "metadata": {},
   "source": [
    "## Changing ndarrays\n",
    "\n",
    "- .reshape\n",
    "- .resize\n",
    "- .flatten\n",
    "- .ravel\n",
    "- .astype"
   ]
  },
  {
   "cell_type": "markdown",
   "id": "bde11cea",
   "metadata": {},
   "source": [
    "- numpy.reshape(a, newshape, order = \"C\")"
   ]
  },
  {
   "cell_type": "code",
   "execution_count": 2,
   "id": "624f094f",
   "metadata": {},
   "outputs": [
    {
     "name": "stdout",
     "output_type": "stream",
     "text": [
      "a : \n",
      " [0 1 2 3 4 5]\n",
      "b : \n",
      " [[0 1 2]\n",
      " [3 4 5]]\n"
     ]
    }
   ],
   "source": [
    "import numpy as np\n",
    "\n",
    "a = np.arange(6)\n",
    "b = np.reshape(a,(2,3))\n",
    "\n",
    "print(\"a : \\n\", a)\n",
    "print(\"b : \\n\", b)"
   ]
  },
  {
   "cell_type": "code",
   "execution_count": 3,
   "id": "ae5be3a5",
   "metadata": {},
   "outputs": [
    {
     "name": "stdout",
     "output_type": "stream",
     "text": [
      "a : \n",
      " [ 0  1  2  3  4  5  6  7  8  9 10 11 12 13 14 15 16 17 18 19 20 21 22 23]\n",
      "b : \n",
      " [[[ 0  1  2  3]\n",
      "  [ 4  5  6  7]\n",
      "  [ 8  9 10 11]]\n",
      "\n",
      " [[12 13 14 15]\n",
      "  [16 17 18 19]\n",
      "  [20 21 22 23]]]\n"
     ]
    }
   ],
   "source": [
    "a = np.arange(24)\n",
    "b = np.reshape(a, (2,3,4))\n",
    "\n",
    "print(\"a : \\n\", a)\n",
    "print(\"b : \\n\", b)"
   ]
  },
  {
   "cell_type": "markdown",
   "id": "3131a5ae",
   "metadata": {},
   "source": [
    "### np.reshape and ndarray.reshape"
   ]
  },
  {
   "cell_type": "code",
   "execution_count": 9,
   "id": "f66fecdf",
   "metadata": {},
   "outputs": [
    {
     "name": "stdout",
     "output_type": "stream",
     "text": [
      "(100,)\n",
      "57.85\n",
      "57.85\n"
     ]
    }
   ],
   "source": [
    "import numpy as np\n",
    "\n",
    "a = np.random.randint(0, 100, (100,))\n",
    "print(a.shape)\n",
    "\n",
    "print(a.reshape(20,5).mean(axis= 0).max())\n",
    "print(np.max(np.mean(np.reshape(a,(20,5)), axis = 0)))"
   ]
  },
  {
   "cell_type": "markdown",
   "id": "74c425f8",
   "metadata": {},
   "source": [
    "### -1 in np.reshape"
   ]
  },
  {
   "cell_type": "code",
   "execution_count": 10,
   "id": "7996ba48",
   "metadata": {},
   "outputs": [
    {
     "name": "stdout",
     "output_type": "stream",
     "text": [
      "(2, 6) (3, 4) (4, 3) (6, 2)\n"
     ]
    }
   ],
   "source": [
    "a = np.arange(12)\n",
    "\n",
    "b = a.reshape((2,-1))\n",
    "c = a.reshape((3,-1))\n",
    "d = a.reshape((4,-1))\n",
    "e = a.reshape((6,-1))\n",
    "\n",
    "print(b.shape, c.shape, d.shape, e.shape)"
   ]
  },
  {
   "cell_type": "code",
   "execution_count": 11,
   "id": "c0a37da4",
   "metadata": {},
   "outputs": [
    {
     "name": "stdout",
     "output_type": "stream",
     "text": [
      "[[7 8]\n",
      " [2 6]]\n"
     ]
    }
   ],
   "source": [
    "a = np.random.randint(0,10, size=(2,2))\n",
    "\n",
    "print(a)\n",
    "\n",
    "row_vector = a.reshape(1,-1)"
   ]
  },
  {
   "cell_type": "code",
   "execution_count": null,
   "id": "df30ff83",
   "metadata": {},
   "outputs": [],
   "source": []
  }
 ],
 "metadata": {
  "kernelspec": {
   "display_name": "Python 3 (ipykernel)",
   "language": "python",
   "name": "python3"
  },
  "language_info": {
   "codemirror_mode": {
    "name": "ipython",
    "version": 3
   },
   "file_extension": ".py",
   "mimetype": "text/x-python",
   "name": "python",
   "nbconvert_exporter": "python",
   "pygments_lexer": "ipython3",
   "version": "3.9.0"
  }
 },
 "nbformat": 4,
 "nbformat_minor": 5
}
