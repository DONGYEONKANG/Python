{
 "cells": [
  {
   "cell_type": "markdown",
   "id": "630b7d5a",
   "metadata": {},
   "source": [
    "## Changing ndarrays\n",
    "\n",
    "- .reshape\n",
    "- .resize\n",
    "- .flatten\n",
    "- .ravel\n",
    "- .astype"
   ]
  },
  {
   "cell_type": "markdown",
   "id": "bde11cea",
   "metadata": {},
   "source": [
    "- numpy.reshape(a, newshape, order = \"C\")"
   ]
  },
  {
   "cell_type": "code",
   "execution_count": 2,
   "id": "624f094f",
   "metadata": {},
   "outputs": [
    {
     "name": "stdout",
     "output_type": "stream",
     "text": [
      "a : \n",
      " [0 1 2 3 4 5]\n",
      "b : \n",
      " [[0 1 2]\n",
      " [3 4 5]]\n"
     ]
    }
   ],
   "source": [
    "import numpy as np\n",
    "\n",
    "a = np.arange(6)\n",
    "b = np.reshape(a,(2,3))\n",
    "\n",
    "print(\"a : \\n\", a)\n",
    "print(\"b : \\n\", b)"
   ]
  },
  {
   "cell_type": "code",
   "execution_count": 3,
   "id": "ae5be3a5",
   "metadata": {},
   "outputs": [
    {
     "name": "stdout",
     "output_type": "stream",
     "text": [
      "a : \n",
      " [ 0  1  2  3  4  5  6  7  8  9 10 11 12 13 14 15 16 17 18 19 20 21 22 23]\n",
      "b : \n",
      " [[[ 0  1  2  3]\n",
      "  [ 4  5  6  7]\n",
      "  [ 8  9 10 11]]\n",
      "\n",
      " [[12 13 14 15]\n",
      "  [16 17 18 19]\n",
      "  [20 21 22 23]]]\n"
     ]
    }
   ],
   "source": [
    "a = np.arange(24)\n",
    "b = np.reshape(a, (2,3,4))\n",
    "\n",
    "print(\"a : \\n\", a)\n",
    "print(\"b : \\n\", b)"
   ]
  },
  {
   "cell_type": "markdown",
   "id": "3131a5ae",
   "metadata": {},
   "source": [
    "### np.reshape and ndarray.reshape"
   ]
  },
  {
   "cell_type": "code",
   "execution_count": 1,
   "id": "f66fecdf",
   "metadata": {},
   "outputs": [
    {
     "name": "stdout",
     "output_type": "stream",
     "text": [
      "(100,)\n",
      "61.75\n",
      "61.75\n"
     ]
    }
   ],
   "source": [
    "import numpy as np\n",
    "\n",
    "a = np.random.randint(0, 100, (100,))\n",
    "print(a.shape)\n",
    "\n",
    "print(a.reshape(20,5).mean(axis= 0).max())\n",
    "print(np.max(np.mean(np.reshape(a,(20,5)), axis = 0)))"
   ]
  },
  {
   "cell_type": "markdown",
   "id": "74c425f8",
   "metadata": {},
   "source": [
    "### -1 in np.reshape"
   ]
  },
  {
   "cell_type": "code",
   "execution_count": 2,
   "id": "7996ba48",
   "metadata": {},
   "outputs": [
    {
     "name": "stdout",
     "output_type": "stream",
     "text": [
      "(2, 6) (3, 4) (4, 3) (6, 2)\n"
     ]
    }
   ],
   "source": [
    "a = np.arange(12)\n",
    "\n",
    "b = a.reshape((2,-1))\n",
    "c = a.reshape((3,-1))\n",
    "d = a.reshape((4,-1))\n",
    "e = a.reshape((6,-1))\n",
    "\n",
    "print(b.shape, c.shape, d.shape, e.shape)"
   ]
  },
  {
   "cell_type": "code",
   "execution_count": 3,
   "id": "c0a37da4",
   "metadata": {},
   "outputs": [
    {
     "name": "stdout",
     "output_type": "stream",
     "text": [
      "[[6 5]\n",
      " [0 1]]\n"
     ]
    }
   ],
   "source": [
    "a = np.random.randint(0,10, size=(2,2))\n",
    "\n",
    "print(a)\n",
    "\n",
    "row_vector = a.reshape(1,-1)"
   ]
  },
  {
   "cell_type": "markdown",
   "id": "1a26f805",
   "metadata": {},
   "source": [
    "### np.resize and ndarray.resize\n",
    "\n",
    "\n",
    "\n",
    "__반환타입이 다르다!!!__\n",
    "- reshape -> ()\n",
    "- resize -> 100,200"
   ]
  },
  {
   "cell_type": "code",
   "execution_count": 5,
   "id": "2686bc07",
   "metadata": {},
   "outputs": [
    {
     "name": "stdout",
     "output_type": "stream",
     "text": [
      "a : \n",
      " [0 1 2 3 4 5]\n",
      "b : \n",
      " [[0 1 2]\n",
      " [3 4 5]]\n"
     ]
    }
   ],
   "source": [
    "\n",
    "a = np.arange(6)\n",
    "b = np.resize(a, (2,3))\n",
    "\n",
    "print(\"a : \\n\", a)\n",
    "print(\"b : \\n\", b)"
   ]
  },
  {
   "cell_type": "code",
   "execution_count": 9,
   "id": "7b257eac",
   "metadata": {},
   "outputs": [
    {
     "name": "stdout",
     "output_type": "stream",
     "text": [
      "a : \n",
      " [0 1 2 3 4 5]\n",
      "b : \n",
      " [0 1 2 3 4 5 0 1 2]\n"
     ]
    }
   ],
   "source": [
    "# # reshape\n",
    "# a = np.arange(6)\n",
    "# b = np.reshape(a, (9,)) # error\n",
    "# print(\"a : \\n\", a) \n",
    "# print(\"b : \\n\", b)\n",
    "\n",
    "\n",
    "# resize\n",
    "a = np.arange(6)\n",
    "b = np.resize(a, (9,)) # ok!\n",
    "print(\"a : \\n\", a) \n",
    "print(\"b : \\n\", b)\n"
   ]
  },
  {
   "cell_type": "code",
   "execution_count": 10,
   "id": "7b777c09",
   "metadata": {},
   "outputs": [
    {
     "name": "stdout",
     "output_type": "stream",
     "text": [
      "a : \n",
      " [0 1 2 3 4 5]\n",
      "b : \n",
      " [[0 1 2 3]\n",
      " [4 5 0 1]\n",
      " [2 3 4 5]]\n"
     ]
    }
   ],
   "source": [
    "# resize\n",
    "a = np.arange(6)\n",
    "b = np.resize(a, (3,4)) # ok! # row부터 순서대로 부족하면 처음부터 ~~\n",
    "print(\"a : \\n\", a) \n",
    "print(\"b : \\n\", b)"
   ]
  },
  {
   "cell_type": "markdown",
   "id": "3a57264d",
   "metadata": {},
   "source": [
    "- ndarray.resize(new_shape , refcheck=True)"
   ]
  },
  {
   "cell_type": "code",
   "execution_count": 11,
   "id": "4b55b971",
   "metadata": {},
   "outputs": [
    {
     "name": "stdout",
     "output_type": "stream",
     "text": [
      "a : \n",
      " [[0 1]\n",
      " [2 3]]\n",
      "b : \n",
      " None\n"
     ]
    }
   ],
   "source": [
    "# resize\n",
    "a = np.arange(9) # a가 바뀐다.\n",
    "b = a.resize((2,2)) # return 값이 X\n",
    "print(\"a : \\n\", a) \n",
    "print(\"b : \\n\", b)"
   ]
  },
  {
   "cell_type": "markdown",
   "id": "316fe66e",
   "metadata": {},
   "source": [
    "### np.flatten and np.ravel\n",
    "\n",
    "- ndarray.flatten(order=\"C\")"
   ]
  },
  {
   "cell_type": "code",
   "execution_count": 15,
   "id": "c424587d",
   "metadata": {},
   "outputs": [
    {
     "name": "stdout",
     "output_type": "stream",
     "text": [
      "[0 1 2 3 4 5 6 7 8] \n",
      "\n",
      "[[0 1 2]\n",
      " [3 4 5]\n",
      " [6 7 8]] \n",
      "\n",
      "[0 1 2 3 4 5 6 7 8] \n",
      "\n"
     ]
    }
   ],
   "source": [
    "M = np.arange(9)\n",
    "N = M.reshape((3,3)) # 항상 바깥쪽 차원부터 연산해야한다.\n",
    "O = N.flatten()\n",
    "\n",
    "print(M, \"\\n\")\n",
    "print(N, \"\\n\")\n",
    "print(O, \"\\n\")\n"
   ]
  },
  {
   "cell_type": "code",
   "execution_count": 13,
   "id": "270694c5",
   "metadata": {},
   "outputs": [
    {
     "name": "stdout",
     "output_type": "stream",
     "text": [
      "[ 0  1  2  3  4  5  6  7  8  9 10 11 12 13 14 15 16 17 18 19 20 21 22 23\n",
      " 24 25 26] \n",
      "\n",
      "[[[ 0  1  2]\n",
      "  [ 3  4  5]\n",
      "  [ 6  7  8]]\n",
      "\n",
      " [[ 9 10 11]\n",
      "  [12 13 14]\n",
      "  [15 16 17]]\n",
      "\n",
      " [[18 19 20]\n",
      "  [21 22 23]\n",
      "  [24 25 26]]] \n",
      "\n",
      "[ 0  1  2  3  4  5  6  7  8  9 10 11 12 13 14 15 16 17 18 19 20 21 22 23\n",
      " 24 25 26] \n",
      "\n"
     ]
    }
   ],
   "source": [
    "M = np.arange(27)\n",
    "N = M.reshape((3,3,3))\n",
    "O = N.flatten()\n",
    "\n",
    "print(M, \"\\n\") # (3,3), (3,3), (3,3) -> (3,3) -> (3,), (3,), (3,)\n",
    "print(N, \"\\n\")\n",
    "print(O, \"\\n\") # 역 연산한다.\n"
   ]
  },
  {
   "cell_type": "code",
   "execution_count": 14,
   "id": "a39ea34d",
   "metadata": {},
   "outputs": [
    {
     "name": "stdout",
     "output_type": "stream",
     "text": [
      "[[0 1 2]\n",
      " [3 4 5]\n",
      " [6 7 8]]\n",
      "[[ 9 10 11]\n",
      " [12 13 14]\n",
      " [15 16 17]]\n",
      "[[18 19 20]\n",
      " [21 22 23]\n",
      " [24 25 26]]\n"
     ]
    }
   ],
   "source": [
    "N0, N1, N2 = N[0], N[1], N[2]\n",
    "\n",
    "print(N0)\n",
    "print(N1)\n",
    "print(N2)"
   ]
  },
  {
   "cell_type": "markdown",
   "id": "e7bc1b1c",
   "metadata": {},
   "source": [
    "- np.ravel()"
   ]
  },
  {
   "cell_type": "code",
   "execution_count": 16,
   "id": "cfe3d91c",
   "metadata": {},
   "outputs": [
    {
     "name": "stdout",
     "output_type": "stream",
     "text": [
      "[ 0  1  2  3  4  5  6  7  8  9 10 11 12 13 14 15 16 17 18 19 20 21 22 23\n",
      " 24 25 26] \n",
      "\n",
      "[[[ 0  1  2]\n",
      "  [ 3  4  5]\n",
      "  [ 6  7  8]]\n",
      "\n",
      " [[ 9 10 11]\n",
      "  [12 13 14]\n",
      "  [15 16 17]]\n",
      "\n",
      " [[18 19 20]\n",
      "  [21 22 23]\n",
      "  [24 25 26]]] \n",
      "\n",
      "[ 0  1  2  3  4  5  6  7  8  9 10 11 12 13 14 15 16 17 18 19 20 21 22 23\n",
      " 24 25 26] \n",
      "\n"
     ]
    }
   ],
   "source": [
    "M = np.arange(27)\n",
    "N = M.reshape((3,3,3))\n",
    "O = N.ravel()\n",
    "\n",
    "print(M, \"\\n\") \n",
    "print(N, \"\\n\")\n",
    "print(O, \"\\n\") \n"
   ]
  },
  {
   "cell_type": "markdown",
   "id": "acd5dce7",
   "metadata": {},
   "source": [
    "### Copy and view of ndarrays\n",
    "\n",
    "- 메모리 최적화가 필용하다!!\n",
    "- Copy(다른 주소값을 가진다.. but 많은 메모리 사용) <-----> View(최적화, 같은 주소값을 공유한다. 즉 하나의 메모리 공유)"
   ]
  },
  {
   "cell_type": "code",
   "execution_count": 18,
   "id": "b9eb3059",
   "metadata": {},
   "outputs": [
    {
     "name": "stdout",
     "output_type": "stream",
     "text": [
      "[100   1   2   3   4]\n",
      "[100   1   2   3   4]\n"
     ]
    }
   ],
   "source": [
    "a = np.arange(5)\n",
    "b = a.view()\n",
    "\n",
    "b[0] = 100\n",
    "\n",
    "print(a)\n",
    "print(b)"
   ]
  },
  {
   "cell_type": "code",
   "execution_count": 19,
   "id": "60d0b429",
   "metadata": {},
   "outputs": [
    {
     "name": "stdout",
     "output_type": "stream",
     "text": [
      "[10 10 10  3  4]\n",
      "[10 10 10]\n"
     ]
    }
   ],
   "source": [
    "a = np.arange(5)\n",
    "b = a[0:3] # slicing은 view이다!!!!\n",
    "\n",
    "b[...] = 10\n",
    "\n",
    "print(a) \n",
    "print(b)"
   ]
  },
  {
   "cell_type": "code",
   "execution_count": 20,
   "id": "835a4755",
   "metadata": {},
   "outputs": [
    {
     "name": "stdout",
     "output_type": "stream",
     "text": [
      "[0 1 2 3 4]\n",
      "[101   1   2   3   4]\n"
     ]
    }
   ],
   "source": [
    "a = np.arange(5)\n",
    "b = a.copy() # 다른 메모리주소\n",
    "\n",
    "b[0] = 101\n",
    "\n",
    "print(a) \n",
    "print(b)"
   ]
  },
  {
   "cell_type": "code",
   "execution_count": 21,
   "id": "b499fdea",
   "metadata": {},
   "outputs": [
    {
     "name": "stdout",
     "output_type": "stream",
     "text": [
      "False\n",
      "True\n",
      "True\n"
     ]
    }
   ],
   "source": [
    "# base if ndarrays\n",
    "\n",
    "a = np.arange(5)\n",
    "b = a.copy()\n",
    "c = a.view()\n",
    "d = a[0:3]\n",
    "\n",
    "print(b.base is a)\n",
    "print(c.base is a)\n",
    "print(d.base is a)"
   ]
  },
  {
   "cell_type": "markdown",
   "id": "29a010b6",
   "metadata": {},
   "source": [
    "- APIs and copy, view"
   ]
  },
  {
   "cell_type": "code",
   "execution_count": 22,
   "id": "8b5abb09",
   "metadata": {},
   "outputs": [
    {
     "name": "stdout",
     "output_type": "stream",
     "text": [
      "False \n",
      "\n",
      "[0 1 2 3 4]\n",
      "[[100   1]\n",
      " [  2   3]]\n"
     ]
    }
   ],
   "source": [
    "a = np.arange(5)\n",
    "b = np.resize(a,(2,2)) #copy\n",
    "\n",
    "b[0,0] = 100\n",
    "print(b.base is a, \"\\n\")\n",
    "print(a)\n",
    "print(b)"
   ]
  },
  {
   "cell_type": "code",
   "execution_count": 25,
   "id": "0f84773e",
   "metadata": {},
   "outputs": [
    {
     "name": "stdout",
     "output_type": "stream",
     "text": [
      "False \n",
      "\n",
      "[[3 6 4]\n",
      " [6 2 7]]\n",
      "[-10   6   4   6   2   7]\n"
     ]
    }
   ],
   "source": [
    "a = np.random.randint(0,10, (2,3))\n",
    "b = a.flatten() # copy\n",
    "b[0] = -10\n",
    "\n",
    "print(b.base is a, \"\\n\")\n",
    "print(a)\n",
    "print(b)\n"
   ]
  },
  {
   "cell_type": "code",
   "execution_count": 27,
   "id": "b03d4f2e",
   "metadata": {},
   "outputs": [
    {
     "name": "stdout",
     "output_type": "stream",
     "text": [
      "True \n",
      "\n",
      "[[-10   2   0]\n",
      " [  8   9   6]]\n",
      "[-10   2   0   8   9   6]\n"
     ]
    }
   ],
   "source": [
    "a = np.random.randint(0,10, (2,3))\n",
    "b = a.ravel() # 같은 메모리 사용\n",
    "b[0] = -10\n",
    "\n",
    "print(b.base is a, \"\\n\")\n",
    "print(a)\n",
    "print(b)"
   ]
  },
  {
   "cell_type": "code",
   "execution_count": 28,
   "id": "70a8b020",
   "metadata": {},
   "outputs": [
    {
     "name": "stdout",
     "output_type": "stream",
     "text": [
      "False \n",
      "\n",
      "[[5 6 8]\n",
      " [7 2 3]]\n",
      "[-10   6   8   7   2   3]\n"
     ]
    }
   ],
   "source": [
    "a = np.random.randint(0,10, (2,3))\n",
    "b = a.ravel().copy() # 새로운 메모리\n",
    "b[0] = -10\n",
    "\n",
    "print(b.base is a, \"\\n\")\n",
    "print(a)\n",
    "print(b)"
   ]
  },
  {
   "cell_type": "markdown",
   "id": "dbc71788",
   "metadata": {},
   "source": [
    "### ndarray.astype\n",
    "\n"
   ]
  },
  {
   "cell_type": "code",
   "execution_count": 31,
   "id": "a2c39db9",
   "metadata": {},
   "outputs": [
    {
     "name": "stdout",
     "output_type": "stream",
     "text": [
      "int8\n",
      "uint32\n",
      "float32\n"
     ]
    }
   ],
   "source": [
    "M = np.array([1,2,3], np.int8)\n",
    "print(M.dtype)\n",
    "\n",
    "N = M.astype(np.uint32)\n",
    "O = M.astype(np.float32)\n",
    "\n",
    "print(N.dtype)\n",
    "print(O.dtype)"
   ]
  },
  {
   "cell_type": "code",
   "execution_count": 32,
   "id": "fa8b8f38",
   "metadata": {},
   "outputs": [
    {
     "name": "stdout",
     "output_type": "stream",
     "text": [
      "[[-0.85848675 -8.76151737 -7.77696429]\n",
      " [ 4.75606998  0.3499178   3.4720921 ]\n",
      " [ 1.49599523  6.46983884 -7.70965736]] \n",
      "\n",
      "[[ 0 -8 -7]\n",
      " [ 4  0  3]\n",
      " [ 1  6 -7]]\n"
     ]
    }
   ],
   "source": [
    "M = np.random.uniform(low= -10, high = 10, size = (3,3))\n",
    "print(M, \"\\n\")\n",
    "print(M.astype(np.int32))"
   ]
  },
  {
   "cell_type": "code",
   "execution_count": 41,
   "id": "8afb339a",
   "metadata": {},
   "outputs": [
    {
     "name": "stdout",
     "output_type": "stream",
     "text": [
      "bool: \n",
      "[ True False]\n",
      "\n",
      "\n",
      "int: \n",
      "[1 0]\n",
      "\n",
      "\n",
      "floats: \n",
      "[1. 0.]\n",
      "\n",
      "\n",
      "ints -> bools: \n",
      "[ True  True False  True  True]\n",
      "\n",
      "\n",
      "floats -> bools: \n",
      "[ True  True False  True  True]\n"
     ]
    }
   ],
   "source": [
    "# bool dtype ndarrays\n",
    "\n",
    "bools = np.array([True, False])\n",
    "print(f\"bool: \\n{bools}\")\n",
    "\n",
    "print(\"\\n\")\n",
    "bools2ints = bools.astype(np.int64)\n",
    "print(f\"int: \\n{bools2ints}\")\n",
    "\n",
    "\n",
    "print(\"\\n\")\n",
    "bools2floats = bools.astype(np.float32)\n",
    "print(f\"floats: \\n{bools2floats}\")\n",
    "\n",
    "print(\"\\n\")\n",
    "ints = np.array([-2,-1, 0, 1,2])\n",
    "ints2bools = ints.astype(np.bool_)\n",
    "print(f\"ints -> bools: \\n{ints2bools}\")\n",
    "\n",
    "print(\"\\n\")\n",
    "floats2bools = ints.astype(np.bool_)\n",
    "print(f\"floats -> bools: \\n{floats2bools}\")"
   ]
  },
  {
   "cell_type": "code",
   "execution_count": 42,
   "id": "41987d83",
   "metadata": {},
   "outputs": [
    {
     "name": "stdout",
     "output_type": "stream",
     "text": [
      "False False\n",
      "False False\n",
      "False True\n",
      "True False\n"
     ]
    }
   ],
   "source": [
    "print(-3 == True, -3 == False)\n",
    "print(3.14 == True, 3.14 == False)\n",
    "print(0. == True, 0. == False)\n",
    "print(1.== True, 1. == False)"
   ]
  },
  {
   "cell_type": "code",
   "execution_count": null,
   "id": "fcf8b745",
   "metadata": {},
   "outputs": [],
   "source": []
  }
 ],
 "metadata": {
  "kernelspec": {
   "display_name": "Python 3 (ipykernel)",
   "language": "python",
   "name": "python3"
  },
  "language_info": {
   "codemirror_mode": {
    "name": "ipython",
    "version": 3
   },
   "file_extension": ".py",
   "mimetype": "text/x-python",
   "name": "python",
   "nbconvert_exporter": "python",
   "pygments_lexer": "ipython3",
   "version": "3.9.0"
  }
 },
 "nbformat": 4,
 "nbformat_minor": 5
}
